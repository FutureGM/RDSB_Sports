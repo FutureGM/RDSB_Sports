{
 "cells": [
  {
   "cell_type": "markdown",
   "metadata": {},
   "source": [
    "# Objectives\n",
    "## Research Questions to Answer: \n",
    "### 1. What are the final rankings and scores for the season?\n",
    "### 2. What is the most ideal candidate for current players?\n",
    "### 3. Which statistics actually impact performance or outcome of games?\n",
    "####      a. How do you value one position vs. another in fantasy?\n",
    "####      b. Does the volume the yards thrown or ran count for an ideal candidate?\n",
    "### 4. Potential Revenue based on contracts (and social media)\n"
   ]
  },
  {
   "cell_type": "code",
   "execution_count": 3,
   "metadata": {
    "collapsed": true
   },
   "outputs": [],
   "source": [
    "#Dependencies\n",
    "import os\n",
    "import urllib\n",
    "import json\n",
    "import simplejson\n",
    "import csv\n",
    "import pandas as pd\n",
    "import pytest\n",
    "import base64\n",
    "import requests\n",
    "from pprint import pprint\n",
    "from datetime import datetime\n",
    "from ohmysportsfeedspy.v1_0 import API_v1_0\n",
    "from ohmysportsfeedspy.v1_1 import API_v1_1\n",
    "from ohmysportsfeedspy.v1_2 import API_v1_2\n",
    "from ohmysportsfeedspy import MySportsFeeds\n",
    "msf = MySportsFeeds(version=\"1.2\")"
   ]
  },
  {
   "cell_type": "code",
   "execution_count": 4,
   "metadata": {
    "collapsed": true
   },
   "outputs": [],
   "source": [
    "#Authentication\n",
    "msf.authenticate(\"mdiaz\",\"EC1000ltd\")"
   ]
  },
  {
   "cell_type": "markdown",
   "metadata": {},
   "source": [
    "# NFL Schedule Function\n",
    "#### (Trying to turn this into 1 api call function)"
   ]
  },
  {
   "cell_type": "code",
   "execution_count": 13,
   "metadata": {},
   "outputs": [
    {
     "data": {
      "text/html": [
       "<div>\n",
       "<style>\n",
       "    .dataframe thead tr:only-child th {\n",
       "        text-align: right;\n",
       "    }\n",
       "\n",
       "    .dataframe thead th {\n",
       "        text-align: left;\n",
       "    }\n",
       "\n",
       "    .dataframe tbody tr th {\n",
       "        vertical-align: top;\n",
       "    }\n",
       "</style>\n",
       "<table border=\"1\" class=\"dataframe\">\n",
       "  <thead>\n",
       "    <tr style=\"text-align: right;\">\n",
       "      <th></th>\n",
       "      <th>Away Team</th>\n",
       "      <th>Dates</th>\n",
       "      <th>Home Team</th>\n",
       "      <th>Season</th>\n",
       "    </tr>\n",
       "  </thead>\n",
       "  <tbody>\n",
       "  </tbody>\n",
       "</table>\n",
       "</div>"
      ],
      "text/plain": [
       "Empty DataFrame\n",
       "Columns: [Away Team, Dates, Home Team, Season]\n",
       "Index: []"
      ]
     },
     "execution_count": 13,
     "metadata": {},
     "output_type": "execute_result"
    }
   ],
   "source": [
    "#Build a url path:\n",
    "#Create a dictionary of information needed/intested in\n",
    "#Open Necessary Files\n",
    "username = \"mdiaz\"\n",
    "password = \"EC1000ltd\"\n",
    "baseUrl = \"https://api.mysportsfeeds.com/v1.2/pull/nfl/\"\n",
    "Authorization = \"mdiaz\" + \":\" + \"EC1000ltd\"\n",
    "format_type = [\".csv\", \".json\", \".xml\"]\n",
    "nfl_teams = [\"ARI\",\"ATL\",\"BAL\",\"BUF\",\"CAR\",\"CHI\",\"CIN\",\"CLE\",\n",
    "              \"DAL\",\"DEN\",\"DET\",\"GB\",\"HOU\",\"IND\",\"JAX\",\"KC\",\n",
    "              \"LAC\",\"LAR\",\"MIA\",\"MIN\",\"NE\",\"NO\",\"NYG\",\"NYJ\",\n",
    "              \"OAK\",\"PHI\",\"PIT\",\"SD\",\"SEA\",\"SF\",\"STL\",\"TB\",\"TEN\",\"WAS\"]\n",
    "seasons = [\"2014-2015-regular/\", \"2015-playoff/\",\n",
    "         \"2015-2016-regular/\", \"2016-playoff/\",\n",
    "         \"2016-2017-regular/\", \"2017-playoff/\",\n",
    "         \"2017-2018-regular/\", \"2018-playoff/\"]\n",
    "#API ID Parameters:\n",
    "api_params = [\"?gameid=\",\n",
    "              \"?fordate=\"]\n",
    "#Feed Paramters that DON'T USE fordates/gameid\n",
    "overall_feed = [\"active_players\",\n",
    "        \"conference_team_standings\"\n",
    "        \"cumulative_player_stats\",\n",
    "        \"division_team_standings\",\n",
    "        \"full_game_schedule\",\n",
    "        \"latest_updates\",\n",
    "        \"overall_team_standings\",\n",
    "        \"player_injuries\",\n",
    "        \"playoff_team_standings\"]\n",
    "#Feed Parameters that use ForDates:\n",
    "fordate_feed = [\"current_season\",\n",
    "                \"daily_dfs\",\n",
    "                \"daily_game_schedule\",\n",
    "                \"daily_player_stats\",\n",
    "                \"roster_players\",\n",
    "                \"scoreboard\",\n",
    "                \"roster_players\"]\n",
    "#Feed Parameters that use GameID:\n",
    "gameid_feed = [\"game_boxscore\",\n",
    "               \"game_playbyplay\",\n",
    "               \"game_startinglineup\"]\n",
    "\n",
    "\n",
    "headers= {\"Authorization\": \"Basic \" + base64.b64encode('{}:{}'.format(username,password).encode('utf-8')).decode('ascii')}\n",
    "#Building a list to append through nfl_schedule function to parse the dates, away, home team\n",
    "nfl_season = []\n",
    "nfl_dates = []\n",
    "nfl_awayTeam = []\n",
    "nfl_homeTeam = []\n",
    "\n",
    "nfl_dateDict = pd.DataFrame({\n",
    "                            \"Season\": nfl_season,\n",
    "                            \"Dates\": nfl_dates,\n",
    "                            \"Away Team\": nfl_awayTeam,\n",
    "                            \"Home Team\": nfl_homeTeam})\n",
    "\n",
    "nfl_dateDict"
   ]
  },
  {
   "cell_type": "code",
   "execution_count": null,
   "metadata": {
    "collapsed": true
   },
   "outputs": [],
   "source": [
    "#NFL Functions for full game, active players, standings, injuries(incomplete), latest updates\n",
    "# nfl_dateDict\n",
    "# 1st i get the schedule\n",
    "# for each schedule/sesaon i get the date, away & home team\n",
    "# the function for_date needs only the date\n",
    "# the function game_id needs all 3 to run\n",
    "def nfl_schedule():\n",
    "    \n",
    "    for season in seasons:\n",
    "        #season_loop = season\n",
    "        #print(season_loop)\n",
    "        #season_l = season_loop   \n",
    "        url2 = \"https://api.mysportsfeeds.com/v1.2/pull/nfl/\" + season + \"full_game_schedule\" + format_type[1]\n",
    "        print(url2)\n",
    "        nflsch = requests.get(url2, headers= headers)\n",
    "#       print(nflsch.json())\n",
    "        x = nflsch.json()\n",
    "        games_dict = x[\"fullgameschedule\"][\"gameentry\"]\n",
    "        for game in games_dict:\n",
    "            dateOfCurrentGame = game[\"date\"].replace(\"-\", \"\")\n",
    "            #dateFormatted = dateOfCurrentGame.replace(\"-\", \"\")\n",
    "            awayTeamCurrentGame = game[\"awayTeam\"][\"Abbreviation\"]\n",
    "            homeTeamCurrentGame = game[\"homeTeam\"][\"Abbreviation\"]\n",
    "            print(dateOfCurrentGame  + \"-\" + awayTeamCurrentGame + \"-\" +  homeTeamCurrentGame)\n",
    "\n",
    "            \n",
    "            for types in gameid_feed:\n",
    "                if season == dateOfCurrentGame:\n",
    "                    try:\n",
    "                        gameidURL = baseUrl + season + types + format_type[1] + api_params[0] + dateOfCurrentGame + \"-\" + awayTeamCurrentGame + \"-\" + homeTeamCurrentGame\n",
    "                        print(gameidURL)\n",
    "                        print('Response HTTP Status Code: {status_code}'.format(status_code=response.status_code))\n",
    "                        print('Response HTTP Response Body: {content}'.format(content=response.content))\n",
    "                    except requests.exceptions.RequestException:\n",
    "                        print('HTTP Request failed')\n",
    "                        pprint(send_request())\n",
    "                elif season != dateOfCurrentGame:\n",
    "                    try:\n",
    "                        season_loop2 = \"2014-regular/\"\n",
    "                        gameidURL = baseUrl + season_loop2 + types + format_type[1] + api_params[0] + dateOfCurrentGame + \"-\" + awayTeamCurrentGame + \"-\" + homeTeamCurrentGame\n",
    "                        print(gameidURL)\n",
    "                    except \"HTTP ERROR 400\":\n",
    "                        pass\n",
    "                    else:\n",
    "                        pass\n",
    "\n",
    "\n",
    "                    nfl_boxscores = requests.get(gameidURL, headers=headers)\n",
    "        #                   print(nfl_boxscores.json())\n",
    "                    y = nfl_boxscores.json()\n",
    "                    print(json.dumps(y, indent=4, sort_keys=True))\n",
    "                \n",
    "            for types in fordate_feed:\n",
    "                fordateURL = baseUrl + season + types + format_type[1] + api_params[1] + dateOfCurrentGame\n",
    "                print(fordateURL)\n",
    "                nfl_boxscores = requests.get(fordateURL, headers=headers)\n",
    "#                 print(nfl_boxscores.json())\n",
    "                y = nfl_boxscores.json()\n",
    "                print(json.dumps(y, indent=4, sort_keys=True))"
   ]
  },
  {
   "cell_type": "code",
   "execution_count": null,
   "metadata": {
    "collapsed": true
   },
   "outputs": [],
   "source": [
    "#Trying to print game box scores within schedule\n",
    "nfl_schedule()"
   ]
  },
  {
   "cell_type": "markdown",
   "metadata": {},
   "source": [
    "## 1. What are the final rankings and scores for the season?"
   ]
  },
  {
   "cell_type": "code",
   "execution_count": null,
   "metadata": {
    "collapsed": true
   },
   "outputs": [],
   "source": []
  },
  {
   "cell_type": "code",
   "execution_count": null,
   "metadata": {
    "collapsed": true
   },
   "outputs": [],
   "source": []
  }
 ],
 "metadata": {
  "kernelspec": {
   "display_name": "Python 3",
   "language": "python",
   "name": "python3"
  },
  "language_info": {
   "codemirror_mode": {
    "name": "ipython",
    "version": 3
   },
   "file_extension": ".py",
   "mimetype": "text/x-python",
   "name": "python",
   "nbconvert_exporter": "python",
   "pygments_lexer": "ipython3",
   "version": "3.6.3"
  }
 },
 "nbformat": 4,
 "nbformat_minor": 2
}
