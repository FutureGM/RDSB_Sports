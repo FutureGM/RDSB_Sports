{
 "cells": [
  {
   "cell_type": "markdown",
   "metadata": {},
   "source": [
    "# Objectives\n",
    "## Research Questions to Answer: \n",
    "### 1. What are the final rankings and scores for the season?\n",
    "### 2. What is the most ideal candidate for current players?\n",
    "### 3. Which statistics actually impact performance or outcome of games?\n",
    "####      a. How do you value one position vs. another in fantasy?\n",
    "####      b. Does the volume the yards thrown or ran count for an ideal candidate?\n",
    "### 4. Potential Revenue based on contracts (and social media)\n"
   ]
  },
  {
   "cell_type": "code",
   "execution_count": 2,
   "metadata": {
    "collapsed": true
   },
   "outputs": [],
   "source": [
    "#Dependencies\n",
    "import os\n",
    "import urllib\n",
    "import json\n",
    "# import simplejson\n",
    "import csv\n",
    "import pandas as pd\n",
    "import pytest\n",
    "import base64\n",
    "import requests\n",
    "from pprint import pprint\n",
    "from datetime import datetime\n",
    "from ohmysportsfeedspy.v1_0 import API_v1_0\n",
    "from ohmysportsfeedspy.v1_1 import API_v1_1\n",
    "from ohmysportsfeedspy.v1_2 import API_v1_2\n",
    "from ohmysportsfeedspy import MySportsFeeds\n",
    "msf = MySportsFeeds(version=\"1.2\")"
   ]
  },
  {
   "cell_type": "code",
   "execution_count": 3,
   "metadata": {
    "collapsed": true
   },
   "outputs": [],
   "source": [
    "#Authentication\n",
    "msf.authenticate(\"mdiaz\",\"EC1000ltd\")"
   ]
  },
  {
   "cell_type": "markdown",
   "metadata": {},
   "source": [
    "# NFL Schedule Function\n",
    "#### (Trying to turn this into 1 api call function)"
   ]
  },
  {
   "cell_type": "code",
   "execution_count": 4,
   "metadata": {
    "collapsed": true
   },
   "outputs": [],
   "source": [
    "#Build a url path:\n",
    "#Create a dictionary of information needed/intested in\n",
    "#Open Necessary Files\n",
    "username = \"mdiaz\"\n",
    "password = \"EC1000ltd\"\n",
    "baseUrl = \"https://api.mysportsfeeds.com/v1.2/pull/nfl/\"\n",
    "Authorization = \"mdiaz\" + \":\" + \"EC1000ltd\"\n",
    "format_type = [\".csv\", \".json\", \".xml\"]\n",
    "nfl_teams = [\"ARI\",\"ATL\",\"BAL\",\"BUF\",\"CAR\",\"CHI\",\"CIN\",\"CLE\",\n",
    "              \"DAL\",\"DEN\",\"DET\",\"GB\",\"HOU\",\"IND\",\"JAX\",\"KC\",\n",
    "              \"LAC\",\"LAR\",\"MIA\",\"MIN\",\"NE\",\"NO\",\"NYG\",\"NYJ\",\n",
    "              \"OAK\",\"PHI\",\"PIT\",\"SD\",\"SEA\",\"SF\",\"STL\",\"TB\",\"TEN\",\"WAS\"]\n",
    "seasons = [\"2014-2015-regular/\", \"2015-playoff/\",\n",
    "         \"2015-2016-regular/\", \"2016-playoff/\",\n",
    "         \"2016-2017-regular/\", \"2017-playoff/\",\n",
    "         \"2017-2018-regular/\", \"2018-playoff/\"]\n",
    "#API ID Parameters:\n",
    "api_params = [\"?gameid=\",\n",
    "              \"?fordate=\"]\n",
    "#Feed Paramters that DON'T USE fordates/gameid\n",
    "overall_feed = [\n",
    "    \"active_players\",\n",
    "    \"conference_team_standings\"\n",
    "    \"cumulative_player_stats\",\n",
    "    \"division_team_standings\",\n",
    "    \"full_game_schedule\",\n",
    "    \"latest_updates\",\n",
    "    \"overall_team_standings\",\n",
    "    \"player_injuries\",\n",
    "    \"playoff_team_standings\"\n",
    "]\n",
    "#Feed Parameters that use ForDates:\n",
    "fordate_feed = [\n",
    "#     \"current_season\",\n",
    "#     \"daily_dfs\",\n",
    "#     \"daily_game_schedule\",\n",
    "#     \"daily_player_stats\",\n",
    "#     \"roster_players\",\n",
    "    \"scoreboard\",\n",
    "#     \"roster_players\"\n",
    "]\n",
    "#Feed Parameters that use GameID:\n",
    "gameid_feed = [\"game_boxscore\",\n",
    "               \"game_playbyplay\",\n",
    "               \"game_startinglineup\"]\n",
    "\n",
    "\n",
    "headers= {\"Authorization\": \"Basic \" + base64.b64encode('{}:{}'.format(username,password).encode('utf-8')).decode('ascii')}\n",
    "#Building a list to append through nfl_schedule function to parse the dates, away, home team\n",
    "nfl_season = []\n",
    "nfl_dates = []\n",
    "nfl_awayTeam = []\n",
    "nfl_homeTeam = []\n",
    "nfl_awayScores = []\n",
    "nfl_homeScores = []\n"
   ]
  },
  {
   "cell_type": "code",
   "execution_count": 10,
   "metadata": {},
   "outputs": [
    {
     "name": "stdout",
     "output_type": "stream",
     "text": [
      "https://api.mysportsfeeds.com/v1.2/pull/nfl/2014-2015-regular/cumulative_player_stats.csv\n",
      "https://api.mysportsfeeds.com/v1.2/pull/nfl/2015-playoff/cumulative_player_stats.csv\n",
      "https://api.mysportsfeeds.com/v1.2/pull/nfl/2015-2016-regular/cumulative_player_stats.csv\n",
      "https://api.mysportsfeeds.com/v1.2/pull/nfl/2016-playoff/cumulative_player_stats.csv\n",
      "https://api.mysportsfeeds.com/v1.2/pull/nfl/2016-2017-regular/cumulative_player_stats.csv\n",
      "https://api.mysportsfeeds.com/v1.2/pull/nfl/2017-playoff/cumulative_player_stats.csv\n",
      "https://api.mysportsfeeds.com/v1.2/pull/nfl/2017-2018-regular/cumulative_player_stats.csv\n",
      "https://api.mysportsfeeds.com/v1.2/pull/nfl/2018-playoff/cumulative_player_stats.csv\n"
     ]
    }
   ],
   "source": [
    "for season in seasons:\n",
    "    season_loop = season\n",
    "    url2 = \"https://api.mysportsfeeds.com/v1.2/pull/nfl/\" + season_loop + \"cumulative_player_stats\" + format_type[0]\n",
    "    print(url2)"
   ]
  },
  {
   "cell_type": "code",
   "execution_count": 4,
   "metadata": {
    "collapsed": true
   },
   "outputs": [],
   "source": [
    "#NFL Functions for full game, active players, standings, injuries(incomplete), latest updates\n",
    "# nfl_dateDict\n",
    "# 1st i get the schedule\n",
    "# for each schedule/sesaon i get the date, away & home team\n",
    "# the function for_date needs only the date\n",
    "# the function game_id needs all 3 to run\n",
    "def nfl_schedule():\n",
    "    \n",
    "#     for season in seasons:\n",
    "        #season_loo4p = season\n",
    "        #print(season_loop)\n",
    "        #season_l = season_loop   \n",
    "        url2 = \"https://api.mysportsfeeds.com/v1.2/pull/nfl/\" + \"2014-2015-regular/\" + \"full_game_schedule\" + format_type[1]\n",
    "#         print(url2)\n",
    "        nflsch = requests.get(url2, headers= headers).json()\n",
    "     \n",
    "#         print(x)\n",
    "#         print(json.dumps(nflsch, indent=4, sort_keys=True))\n",
    "        games_list = nflsch[\"fullgameschedule\"][\"gameentry\"]\n",
    "        for game in games_list:\n",
    "            dateOfCurrentGame = game[\"date\"].replace(\"-\", \"\")\n",
    "            dateOfCurrentGame_201409 = dateOfCurrentGame\n",
    "            dateOfCurrentGame_201410 = dateOfCurrentGame\n",
    "            #dateFormatted = dateOfCurrentGame.replace(\"-\", \"\")\n",
    "            awayTeamCurrentGame = game[\"awayTeam\"][\"Abbreviation\"]\n",
    "            homeTeamCurrentGame = game[\"homeTeam\"][\"Abbreviation\"]\n",
    "#           print(dateOfCurrentGame  + \"-\" + awayTeamCurrentGame + \"-\" +  homeTeamCurrentGame)\n",
    "            nfl_season.append(\"2014-2015-regular/\")\n",
    "            nfl_dates.append(dateOfCurrentGame)\n",
    "            nfl_awayTeam.append(awayTeamCurrentGame)\n",
    "            nfl_homeTeam.append(homeTeamCurrentGame)\n",
    "#            \n",
    "#             print(nfl_dates)\n",
    "            \n",
    "#             for types in gameid_feed:\n",
    "#                 gameidURL = baseUrl + \"2014-regular/\" + types + format_type[1] + api_params[0] + dateOfCurrentGame + \"-\" + awayTeamCurrentGame + \"-\" + homeTeamCurrentGame\n",
    "#                 print(gameidURL)\n",
    "#                 nfl_boxscores = requests.get(gameidURL, headers=headers).json()\n",
    "#     #                   print(nfl_boxscores.json())\n",
    "              \n",
    "#                 print(json.dumps(nfl_boxscores, indent=4, sort_keys=True))\n",
    "                \n",
    "#             for types in fordate_feed:\n",
    "            if dateOfCurrentGame_201409 <= \"20140929\":\n",
    "                fordateURL = baseUrl + \"2014-regular/\" + \"scoreboard\" + format_type[1] + api_params[1] + dateOfCurrentGame\n",
    "                print(fordateURL)\n",
    "                nfl_scoreboard = requests.get(fordateURL, headers=headers).json()\n",
    "    #                 print(nfl_scoreboard.json())\n",
    "    #                 y = nfl_scoreboard.json()\n",
    "    #                 print(json.dumps(y, indent=4, sort_keys=True))\n",
    "#             elif dateOfCurrentGame_201409 >= \"20140929\":\n",
    "    #                 print(nfl_scoreboard.json())\n",
    "    #                 y = nfl_scoreboard.json()\n",
    "    #                 print(json.dumps(y, indent=4, sort_keys=True))\n",
    "            elif dateOfCurrentGame_201410 == \"20141030\":\n",
    "                gameScore = nfl_scoreboard[\"scoreboard\"][\"gameScore\"]\n",
    "                for scores in gameScore:\n",
    "                    awayScores = scores[\"awayScore\"]\n",
    "                    homeScores = scores[\"homeScore\"]\n",
    "            \n",
    "                    nfl_awayScores.append(awayScores)\n",
    "                    nfl_homeScores.append(homeScores)\n",
    "                    break\n",
    "    #                 nfl_df[\"Season\"] = [nfl_season]\n",
    "    #                 nfl_df[\"Dates\"] = [nfl_dates]\n",
    "    #                             \"Away Team\": nfl_awayTeam,\n",
    "    #                             \"Home Team\": nfl_homeTeam\n",
    "\n",
    "                "
   ]
  },
  {
   "cell_type": "code",
   "execution_count": 5,
   "metadata": {},
   "outputs": [
    {
     "ename": "JSONDecodeError",
     "evalue": "Expecting value: line 1 column 1 (char 0)",
     "output_type": "error",
     "traceback": [
      "\u001b[1;31m---------------------------------------------------------------------------\u001b[0m",
      "\u001b[1;31mJSONDecodeError\u001b[0m                           Traceback (most recent call last)",
      "\u001b[1;32m<ipython-input-5-b1ef7b62aaf9>\u001b[0m in \u001b[0;36m<module>\u001b[1;34m()\u001b[0m\n\u001b[0;32m      1\u001b[0m \u001b[1;31m#Trying to print game box scores within schedule\u001b[0m\u001b[1;33m\u001b[0m\u001b[1;33m\u001b[0m\u001b[0m\n\u001b[1;32m----> 2\u001b[1;33m \u001b[0mnfl_schedule\u001b[0m\u001b[1;33m(\u001b[0m\u001b[1;33m)\u001b[0m\u001b[1;33m\u001b[0m\u001b[0m\n\u001b[0m",
      "\u001b[1;32m<ipython-input-4-88ba980756e3>\u001b[0m in \u001b[0;36mnfl_schedule\u001b[1;34m()\u001b[0m\n\u001b[0;32m     13\u001b[0m         \u001b[0murl2\u001b[0m \u001b[1;33m=\u001b[0m \u001b[1;34m\"https://api.mysportsfeeds.com/v1.2/pull/nfl/\"\u001b[0m \u001b[1;33m+\u001b[0m \u001b[1;34m\"2014-2015-regular/\"\u001b[0m \u001b[1;33m+\u001b[0m \u001b[1;34m\"full_game_schedule\"\u001b[0m \u001b[1;33m+\u001b[0m \u001b[0mformat_type\u001b[0m\u001b[1;33m[\u001b[0m\u001b[1;36m1\u001b[0m\u001b[1;33m]\u001b[0m\u001b[1;33m\u001b[0m\u001b[0m\n\u001b[0;32m     14\u001b[0m \u001b[1;31m#         print(url2)\u001b[0m\u001b[1;33m\u001b[0m\u001b[1;33m\u001b[0m\u001b[0m\n\u001b[1;32m---> 15\u001b[1;33m         \u001b[0mnflsch\u001b[0m \u001b[1;33m=\u001b[0m \u001b[0mrequests\u001b[0m\u001b[1;33m.\u001b[0m\u001b[0mget\u001b[0m\u001b[1;33m(\u001b[0m\u001b[0murl2\u001b[0m\u001b[1;33m,\u001b[0m \u001b[0mheaders\u001b[0m\u001b[1;33m=\u001b[0m \u001b[0mheaders\u001b[0m\u001b[1;33m)\u001b[0m\u001b[1;33m.\u001b[0m\u001b[0mjson\u001b[0m\u001b[1;33m(\u001b[0m\u001b[1;33m)\u001b[0m\u001b[1;33m\u001b[0m\u001b[0m\n\u001b[0m\u001b[0;32m     16\u001b[0m \u001b[1;33m\u001b[0m\u001b[0m\n\u001b[0;32m     17\u001b[0m \u001b[1;31m#         print(x)\u001b[0m\u001b[1;33m\u001b[0m\u001b[1;33m\u001b[0m\u001b[0m\n",
      "\u001b[1;32m~\\Anaconda3\\lib\\site-packages\\requests\\models.py\u001b[0m in \u001b[0;36mjson\u001b[1;34m(self, **kwargs)\u001b[0m\n\u001b[0;32m    890\u001b[0m                     \u001b[1;31m# used.\u001b[0m\u001b[1;33m\u001b[0m\u001b[1;33m\u001b[0m\u001b[0m\n\u001b[0;32m    891\u001b[0m                     \u001b[1;32mpass\u001b[0m\u001b[1;33m\u001b[0m\u001b[0m\n\u001b[1;32m--> 892\u001b[1;33m         \u001b[1;32mreturn\u001b[0m \u001b[0mcomplexjson\u001b[0m\u001b[1;33m.\u001b[0m\u001b[0mloads\u001b[0m\u001b[1;33m(\u001b[0m\u001b[0mself\u001b[0m\u001b[1;33m.\u001b[0m\u001b[0mtext\u001b[0m\u001b[1;33m,\u001b[0m \u001b[1;33m**\u001b[0m\u001b[0mkwargs\u001b[0m\u001b[1;33m)\u001b[0m\u001b[1;33m\u001b[0m\u001b[0m\n\u001b[0m\u001b[0;32m    893\u001b[0m \u001b[1;33m\u001b[0m\u001b[0m\n\u001b[0;32m    894\u001b[0m     \u001b[1;33m@\u001b[0m\u001b[0mproperty\u001b[0m\u001b[1;33m\u001b[0m\u001b[0m\n",
      "\u001b[1;32m~\\Anaconda3\\lib\\site-packages\\simplejson\\__init__.py\u001b[0m in \u001b[0;36mloads\u001b[1;34m(s, encoding, cls, object_hook, parse_float, parse_int, parse_constant, object_pairs_hook, use_decimal, **kw)\u001b[0m\n\u001b[0;32m    516\u001b[0m             \u001b[0mparse_constant\u001b[0m \u001b[1;32mis\u001b[0m \u001b[1;32mNone\u001b[0m \u001b[1;32mand\u001b[0m \u001b[0mobject_pairs_hook\u001b[0m \u001b[1;32mis\u001b[0m \u001b[1;32mNone\u001b[0m\u001b[1;33m\u001b[0m\u001b[0m\n\u001b[0;32m    517\u001b[0m             and not use_decimal and not kw):\n\u001b[1;32m--> 518\u001b[1;33m         \u001b[1;32mreturn\u001b[0m \u001b[0m_default_decoder\u001b[0m\u001b[1;33m.\u001b[0m\u001b[0mdecode\u001b[0m\u001b[1;33m(\u001b[0m\u001b[0ms\u001b[0m\u001b[1;33m)\u001b[0m\u001b[1;33m\u001b[0m\u001b[0m\n\u001b[0m\u001b[0;32m    519\u001b[0m     \u001b[1;32mif\u001b[0m \u001b[0mcls\u001b[0m \u001b[1;32mis\u001b[0m \u001b[1;32mNone\u001b[0m\u001b[1;33m:\u001b[0m\u001b[1;33m\u001b[0m\u001b[0m\n\u001b[0;32m    520\u001b[0m         \u001b[0mcls\u001b[0m \u001b[1;33m=\u001b[0m \u001b[0mJSONDecoder\u001b[0m\u001b[1;33m\u001b[0m\u001b[0m\n",
      "\u001b[1;32m~\\Anaconda3\\lib\\site-packages\\simplejson\\decoder.py\u001b[0m in \u001b[0;36mdecode\u001b[1;34m(self, s, _w, _PY3)\u001b[0m\n\u001b[0;32m    368\u001b[0m         \u001b[1;32mif\u001b[0m \u001b[0m_PY3\u001b[0m \u001b[1;32mand\u001b[0m \u001b[0misinstance\u001b[0m\u001b[1;33m(\u001b[0m\u001b[0ms\u001b[0m\u001b[1;33m,\u001b[0m \u001b[0mbinary_type\u001b[0m\u001b[1;33m)\u001b[0m\u001b[1;33m:\u001b[0m\u001b[1;33m\u001b[0m\u001b[0m\n\u001b[0;32m    369\u001b[0m             \u001b[0ms\u001b[0m \u001b[1;33m=\u001b[0m \u001b[0ms\u001b[0m\u001b[1;33m.\u001b[0m\u001b[0mdecode\u001b[0m\u001b[1;33m(\u001b[0m\u001b[0mself\u001b[0m\u001b[1;33m.\u001b[0m\u001b[0mencoding\u001b[0m\u001b[1;33m)\u001b[0m\u001b[1;33m\u001b[0m\u001b[0m\n\u001b[1;32m--> 370\u001b[1;33m         \u001b[0mobj\u001b[0m\u001b[1;33m,\u001b[0m \u001b[0mend\u001b[0m \u001b[1;33m=\u001b[0m \u001b[0mself\u001b[0m\u001b[1;33m.\u001b[0m\u001b[0mraw_decode\u001b[0m\u001b[1;33m(\u001b[0m\u001b[0ms\u001b[0m\u001b[1;33m)\u001b[0m\u001b[1;33m\u001b[0m\u001b[0m\n\u001b[0m\u001b[0;32m    371\u001b[0m         \u001b[0mend\u001b[0m \u001b[1;33m=\u001b[0m \u001b[0m_w\u001b[0m\u001b[1;33m(\u001b[0m\u001b[0ms\u001b[0m\u001b[1;33m,\u001b[0m \u001b[0mend\u001b[0m\u001b[1;33m)\u001b[0m\u001b[1;33m.\u001b[0m\u001b[0mend\u001b[0m\u001b[1;33m(\u001b[0m\u001b[1;33m)\u001b[0m\u001b[1;33m\u001b[0m\u001b[0m\n\u001b[0;32m    372\u001b[0m         \u001b[1;32mif\u001b[0m \u001b[0mend\u001b[0m \u001b[1;33m!=\u001b[0m \u001b[0mlen\u001b[0m\u001b[1;33m(\u001b[0m\u001b[0ms\u001b[0m\u001b[1;33m)\u001b[0m\u001b[1;33m:\u001b[0m\u001b[1;33m\u001b[0m\u001b[0m\n",
      "\u001b[1;32m~\\Anaconda3\\lib\\site-packages\\simplejson\\decoder.py\u001b[0m in \u001b[0;36mraw_decode\u001b[1;34m(self, s, idx, _w, _PY3)\u001b[0m\n\u001b[0;32m    398\u001b[0m             \u001b[1;32melif\u001b[0m \u001b[0mord0\u001b[0m \u001b[1;33m==\u001b[0m \u001b[1;36m0xef\u001b[0m \u001b[1;32mand\u001b[0m \u001b[0ms\u001b[0m\u001b[1;33m[\u001b[0m\u001b[0midx\u001b[0m\u001b[1;33m:\u001b[0m\u001b[0midx\u001b[0m \u001b[1;33m+\u001b[0m \u001b[1;36m3\u001b[0m\u001b[1;33m]\u001b[0m \u001b[1;33m==\u001b[0m \u001b[1;34m'\\xef\\xbb\\xbf'\u001b[0m\u001b[1;33m:\u001b[0m\u001b[1;33m\u001b[0m\u001b[0m\n\u001b[0;32m    399\u001b[0m                 \u001b[0midx\u001b[0m \u001b[1;33m+=\u001b[0m \u001b[1;36m3\u001b[0m\u001b[1;33m\u001b[0m\u001b[0m\n\u001b[1;32m--> 400\u001b[1;33m         \u001b[1;32mreturn\u001b[0m \u001b[0mself\u001b[0m\u001b[1;33m.\u001b[0m\u001b[0mscan_once\u001b[0m\u001b[1;33m(\u001b[0m\u001b[0ms\u001b[0m\u001b[1;33m,\u001b[0m \u001b[0midx\u001b[0m\u001b[1;33m=\u001b[0m\u001b[0m_w\u001b[0m\u001b[1;33m(\u001b[0m\u001b[0ms\u001b[0m\u001b[1;33m,\u001b[0m \u001b[0midx\u001b[0m\u001b[1;33m)\u001b[0m\u001b[1;33m.\u001b[0m\u001b[0mend\u001b[0m\u001b[1;33m(\u001b[0m\u001b[1;33m)\u001b[0m\u001b[1;33m)\u001b[0m\u001b[1;33m\u001b[0m\u001b[0m\n\u001b[0m",
      "\u001b[1;31mJSONDecodeError\u001b[0m: Expecting value: line 1 column 1 (char 0)"
     ]
    }
   ],
   "source": [
    "#Trying to print game box scores within schedule\n",
    "nfl_schedule()"
   ]
  },
  {
   "cell_type": "code",
   "execution_count": null,
   "metadata": {
    "collapsed": true
   },
   "outputs": [],
   "source": [
    "print(len(nfl_season))\n",
    "print(len(nfl_dates))\n",
    "print(len(nfl_awayTeam))\n",
    "print(len(nfl_homeTeam))\n",
    "print(len(nfl_awayScores))\n",
    "print(len(nfl_homeScores))"
   ]
  },
  {
   "cell_type": "code",
   "execution_count": null,
   "metadata": {
    "collapsed": true
   },
   "outputs": [],
   "source": [
    "nfl_df = pd.DataFrame({\n",
    "                            \"Season\": nfl_season,\n",
    "                            \"Dates\": nfl_dates,\n",
    "                            \"Away Team\": nfl_awayTeam,\n",
    "                            \"Home Team\": nfl_homeTeam,\n",
    "                            \"Away Team Scores\": nfl_awayScores,\n",
    "                            \"Home Team Scores\": nfl_homeScores\n",
    "\n",
    "})\n",
    "\n",
    "#After Season, add: scores, \n",
    "nfl_df.head(2)"
   ]
  },
  {
   "cell_type": "markdown",
   "metadata": {},
   "source": [
    "#### 1. What are the final rankings and scores for the season?"
   ]
  },
  {
   "cell_type": "code",
   "execution_count": null,
   "metadata": {
    "collapsed": true
   },
   "outputs": [],
   "source": [
    "url2 = \"https://api.mysportsfeeds.com/v1.2/pull/nfl/\" + \"2014-2015-regular/\" + \"full_game_schedule\" + format_type[1]\n",
    "#         print(url2)\n",
    "nflsch = requests.get(url2, headers= headers)\n",
    "#       print(nflsch.json())\n",
    "z = json.load(nflsch)\n",
    "# print(json.dumps(x, indent=4, sort_keys=True))\n",
    "y = csv.writer(z)\n",
    "for item in z:\n",
    "    values = [x.encode(\"utf8\") for x in item[\"fields\"].values() ]\n",
    "    y.writerow([item[\"pk\"], item[\"model\"]] + values)"
   ]
  },
  {
   "cell_type": "code",
   "execution_count": null,
   "metadata": {
    "collapsed": true
   },
   "outputs": [],
   "source": []
  }
 ],
 "metadata": {
  "kernelspec": {
   "display_name": "Python 3",
   "language": "python",
   "name": "python3"
  },
  "language_info": {
   "codemirror_mode": {
    "name": "ipython",
    "version": 3
   },
   "file_extension": ".py",
   "mimetype": "text/x-python",
   "name": "python",
   "nbconvert_exporter": "python",
   "pygments_lexer": "ipython3",
   "version": "3.6.3"
  }
 },
 "nbformat": 4,
 "nbformat_minor": 2
}
