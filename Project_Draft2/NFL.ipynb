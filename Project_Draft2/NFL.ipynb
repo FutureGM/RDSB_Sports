{
 "cells": [
  {
   "cell_type": "markdown",
   "metadata": {},
   "source": [
    "# Objectives\n",
    "## Research Questions to Answer: \n",
    "### 1. What are the final rankings and scores for the season?\n",
    "### 2. What is the most ideal candidate for current players?\n",
    "### 3. Which statistics actually impact performance or outcome of games?\n",
    "####      a. How do you value one position vs. another in fantasy?\n",
    "####      b. Does the volume the yards thrown or ran count for an ideal candidate?\n",
    "### 4. Potential Revenue based on contracts (and social media)\n"
   ]
  },
  {
   "cell_type": "code",
   "execution_count": 38,
   "metadata": {
    "collapsed": true
   },
   "outputs": [],
   "source": [
    "#Dependencies\n",
    "import pandas as pd\n",
    "import numpy as np\n",
    "import matplotlib.pyplot as plt\n",
    "import json"
   ]
  },
  {
   "cell_type": "code",
   "execution_count": 22,
   "metadata": {},
   "outputs": [
    {
     "data": {
      "text/html": [
       "<div>\n",
       "<style>\n",
       "    .dataframe thead tr:only-child th {\n",
       "        text-align: right;\n",
       "    }\n",
       "\n",
       "    .dataframe thead th {\n",
       "        text-align: left;\n",
       "    }\n",
       "\n",
       "    .dataframe tbody tr th {\n",
       "        vertical-align: top;\n",
       "    }\n",
       "</style>\n",
       "<table border=\"1\" class=\"dataframe\">\n",
       "  <thead>\n",
       "    <tr style=\"text-align: right;\">\n",
       "      <th></th>\n",
       "      <th>date</th>\n",
       "      <th>visitor</th>\n",
       "      <th>home</th>\n",
       "      <th>visitor_score</th>\n",
       "      <th>home_score</th>\n",
       "      <th>visitor_first_downs</th>\n",
       "      <th>visitor_rushing_first_downs</th>\n",
       "      <th>visitor_passing_first_downs</th>\n",
       "      <th>visitor_penalties</th>\n",
       "      <th>visitor_net_yards</th>\n",
       "      <th>...</th>\n",
       "      <th>home_kick_return_splits</th>\n",
       "      <th>home_int_return_splits</th>\n",
       "      <th>home_penalty_splits</th>\n",
       "      <th>home_fumble_splits</th>\n",
       "      <th>home_field_goals</th>\n",
       "      <th>home_third_down_splits</th>\n",
       "      <th>home_fourth_down_splits</th>\n",
       "      <th>home_total_plays</th>\n",
       "      <th>home_avg_gain</th>\n",
       "      <th>home_time_of_possession</th>\n",
       "    </tr>\n",
       "  </thead>\n",
       "  <tbody>\n",
       "    <tr>\n",
       "      <th>0</th>\n",
       "      <td>September 7, 2014</td>\n",
       "      <td>Cleveland</td>\n",
       "      <td>Pittsburgh</td>\n",
       "      <td>27</td>\n",
       "      <td>30</td>\n",
       "      <td>23</td>\n",
       "      <td>9</td>\n",
       "      <td>11</td>\n",
       "      <td>3</td>\n",
       "      <td>389</td>\n",
       "      <td>...</td>\n",
       "      <td>2-29</td>\n",
       "      <td>0-0</td>\n",
       "      <td>11-96</td>\n",
       "      <td>1-0</td>\n",
       "      <td>3-3</td>\n",
       "      <td>4-12-33%</td>\n",
       "      <td>1-1-100%</td>\n",
       "      <td>67</td>\n",
       "      <td>7.5</td>\n",
       "      <td>32:27</td>\n",
       "    </tr>\n",
       "  </tbody>\n",
       "</table>\n",
       "<p>1 rows × 57 columns</p>\n",
       "</div>"
      ],
      "text/plain": [
       "                date    visitor        home  visitor_score  home_score  \\\n",
       "0  September 7, 2014  Cleveland  Pittsburgh             27          30   \n",
       "\n",
       "   visitor_first_downs  visitor_rushing_first_downs  \\\n",
       "0                   23                            9   \n",
       "\n",
       "   visitor_passing_first_downs  visitor_penalties  visitor_net_yards  \\\n",
       "0                           11                  3                389   \n",
       "\n",
       "            ...             home_kick_return_splits  home_int_return_splits  \\\n",
       "0           ...                                2-29                     0-0   \n",
       "\n",
       "   home_penalty_splits  home_fumble_splits home_field_goals  \\\n",
       "0                11-96                 1-0              3-3   \n",
       "\n",
       "  home_third_down_splits  home_fourth_down_splits  home_total_plays  \\\n",
       "0               4-12-33%                 1-1-100%                67   \n",
       "\n",
       "  home_avg_gain  home_time_of_possession  \n",
       "0           7.5                    32:27  \n",
       "\n",
       "[1 rows x 57 columns]"
      ]
     },
     "execution_count": 22,
     "metadata": {},
     "output_type": "execute_result"
    }
   ],
   "source": [
    "NFL_data = \"box_scores.csv\"\n",
    "NFL_data = pd.read_csv(NFL_data)\n",
    "NFL_data.head(1)"
   ]
  },
  {
   "cell_type": "code",
   "execution_count": 23,
   "metadata": {},
   "outputs": [
    {
     "data": {
      "text/html": [
       "<div>\n",
       "<style>\n",
       "    .dataframe thead tr:only-child th {\n",
       "        text-align: right;\n",
       "    }\n",
       "\n",
       "    .dataframe thead th {\n",
       "        text-align: left;\n",
       "    }\n",
       "\n",
       "    .dataframe tbody tr th {\n",
       "        vertical-align: top;\n",
       "    }\n",
       "</style>\n",
       "<table border=\"1\" class=\"dataframe\">\n",
       "  <thead>\n",
       "    <tr style=\"text-align: right;\">\n",
       "      <th></th>\n",
       "      <th>date</th>\n",
       "      <th>visitor</th>\n",
       "      <th>home</th>\n",
       "      <th>visitor_score</th>\n",
       "      <th>home_score</th>\n",
       "    </tr>\n",
       "  </thead>\n",
       "  <tbody>\n",
       "    <tr>\n",
       "      <th>0</th>\n",
       "      <td>September 7, 2014</td>\n",
       "      <td>Cleveland</td>\n",
       "      <td>Pittsburgh</td>\n",
       "      <td>27</td>\n",
       "      <td>30</td>\n",
       "    </tr>\n",
       "  </tbody>\n",
       "</table>\n",
       "</div>"
      ],
      "text/plain": [
       "                date    visitor        home  visitor_score  home_score\n",
       "0  September 7, 2014  Cleveland  Pittsburgh             27          30"
      ]
     },
     "execution_count": 23,
     "metadata": {},
     "output_type": "execute_result"
    }
   ],
   "source": [
    "team_scores = NFL_data[[\"date\",\"visitor\",\"home\",\"visitor_score\",\"home_score\"]]\n",
    "team_scores.head(1)"
   ]
  },
  {
   "cell_type": "code",
   "execution_count": 24,
   "metadata": {
    "collapsed": true
   },
   "outputs": [],
   "source": [
    "NFL_games = \"nfl_games.csv\"\n",
    "NFL_games = pd.read_csv(NFL_games)\n",
    "NFL_date_games = NFL_games.set_index(\"date\")\n",
    "\n",
    "NFL_date_games = NFL_date_games[\"2014-09-04\":]"
   ]
  },
  {
   "cell_type": "code",
   "execution_count": 25,
   "metadata": {},
   "outputs": [
    {
     "data": {
      "text/html": [
       "<div>\n",
       "<style>\n",
       "    .dataframe thead tr:only-child th {\n",
       "        text-align: right;\n",
       "    }\n",
       "\n",
       "    .dataframe thead th {\n",
       "        text-align: left;\n",
       "    }\n",
       "\n",
       "    .dataframe tbody tr th {\n",
       "        vertical-align: top;\n",
       "    }\n",
       "</style>\n",
       "<table border=\"1\" class=\"dataframe\">\n",
       "  <thead>\n",
       "    <tr style=\"text-align: right;\">\n",
       "      <th></th>\n",
       "      <th>season</th>\n",
       "      <th>team1</th>\n",
       "      <th>team2</th>\n",
       "      <th>score1</th>\n",
       "      <th>score2</th>\n",
       "    </tr>\n",
       "    <tr>\n",
       "      <th>date</th>\n",
       "      <th></th>\n",
       "      <th></th>\n",
       "      <th></th>\n",
       "      <th></th>\n",
       "      <th></th>\n",
       "    </tr>\n",
       "  </thead>\n",
       "  <tbody>\n",
       "    <tr>\n",
       "      <th>2014-09-04</th>\n",
       "      <td>2014</td>\n",
       "      <td>SEA</td>\n",
       "      <td>GB</td>\n",
       "      <td>36</td>\n",
       "      <td>16</td>\n",
       "    </tr>\n",
       "    <tr>\n",
       "      <th>2014-09-07</th>\n",
       "      <td>2014</td>\n",
       "      <td>PHI</td>\n",
       "      <td>JAX</td>\n",
       "      <td>34</td>\n",
       "      <td>17</td>\n",
       "    </tr>\n",
       "    <tr>\n",
       "      <th>2014-09-07</th>\n",
       "      <td>2014</td>\n",
       "      <td>PIT</td>\n",
       "      <td>CLE</td>\n",
       "      <td>30</td>\n",
       "      <td>27</td>\n",
       "    </tr>\n",
       "    <tr>\n",
       "      <th>2014-09-07</th>\n",
       "      <td>2014</td>\n",
       "      <td>BAL</td>\n",
       "      <td>CIN</td>\n",
       "      <td>16</td>\n",
       "      <td>23</td>\n",
       "    </tr>\n",
       "    <tr>\n",
       "      <th>2014-09-07</th>\n",
       "      <td>2014</td>\n",
       "      <td>TB</td>\n",
       "      <td>CAR</td>\n",
       "      <td>14</td>\n",
       "      <td>20</td>\n",
       "    </tr>\n",
       "  </tbody>\n",
       "</table>\n",
       "</div>"
      ],
      "text/plain": [
       "            season team1 team2  score1  score2\n",
       "date                                          \n",
       "2014-09-04    2014   SEA    GB      36      16\n",
       "2014-09-07    2014   PHI   JAX      34      17\n",
       "2014-09-07    2014   PIT   CLE      30      27\n",
       "2014-09-07    2014   BAL   CIN      16      23\n",
       "2014-09-07    2014    TB   CAR      14      20"
      ]
     },
     "execution_count": 25,
     "metadata": {},
     "output_type": "execute_result"
    }
   ],
   "source": [
    "NFL_date_games = NFL_date_games[[\"season\",\"team1\",\"team2\",\"score1\",\"score2\"]]\n",
    "nfl_scores = NFL_date_games\n",
    "nfl_scores.head()"
   ]
  },
  {
   "cell_type": "code",
   "execution_count": 26,
   "metadata": {
    "collapsed": true
   },
   "outputs": [],
   "source": [
    "team1_scores = nfl_scores.groupby(\"team1\").sum()[\"score1\"]\n",
    "team2_scores = nfl_scores.groupby(\"team2\").sum()[\"score2\"]\n",
    "\n",
    "team1_scores_df = pd.DataFrame(team1_scores)\n",
    "team2_scores_df = pd.DataFrame(team2_scores)"
   ]
  },
  {
   "cell_type": "code",
   "execution_count": 27,
   "metadata": {},
   "outputs": [
    {
     "data": {
      "text/html": [
       "<div>\n",
       "<style>\n",
       "    .dataframe thead tr:only-child th {\n",
       "        text-align: right;\n",
       "    }\n",
       "\n",
       "    .dataframe thead th {\n",
       "        text-align: left;\n",
       "    }\n",
       "\n",
       "    .dataframe tbody tr th {\n",
       "        vertical-align: top;\n",
       "    }\n",
       "</style>\n",
       "<table border=\"1\" class=\"dataframe\">\n",
       "  <thead>\n",
       "    <tr style=\"text-align: right;\">\n",
       "      <th></th>\n",
       "      <th>Total Points from 2014 to 2017</th>\n",
       "    </tr>\n",
       "  </thead>\n",
       "  <tbody>\n",
       "    <tr>\n",
       "      <th>ARI</th>\n",
       "      <td>1274</td>\n",
       "    </tr>\n",
       "    <tr>\n",
       "      <th>ATL</th>\n",
       "      <td>1368</td>\n",
       "    </tr>\n",
       "    <tr>\n",
       "      <th>BAL</th>\n",
       "      <td>1141</td>\n",
       "    </tr>\n",
       "    <tr>\n",
       "      <th>BUF</th>\n",
       "      <td>1121</td>\n",
       "    </tr>\n",
       "    <tr>\n",
       "      <th>CAR</th>\n",
       "      <td>1342</td>\n",
       "    </tr>\n",
       "  </tbody>\n",
       "</table>\n",
       "</div>"
      ],
      "text/plain": [
       "     Total Points from 2014 to 2017\n",
       "ARI                            1274\n",
       "ATL                            1368\n",
       "BAL                            1141\n",
       "BUF                            1121\n",
       "CAR                            1342"
      ]
     },
     "execution_count": 27,
     "metadata": {},
     "output_type": "execute_result"
    }
   ],
   "source": [
    "#Scores from 2014 to 2017\n",
    "nfl_team_scores = pd.concat([team1_scores_df, team2_scores_df], axis=1)\n",
    "nfl_team_scores[\"Total Points from 2014 to 2017\"] = nfl_team_scores[\"score1\"] + nfl_team_scores[\"score2\"]\n",
    "del nfl_team_scores[\"score1\"]\n",
    "del nfl_team_scores[\"score2\"]\n",
    "nfl_team_scores.head()"
   ]
  },
  {
   "cell_type": "code",
   "execution_count": 28,
   "metadata": {},
   "outputs": [
    {
     "data": {
      "text/html": [
       "<div>\n",
       "<style>\n",
       "    .dataframe thead tr:only-child th {\n",
       "        text-align: right;\n",
       "    }\n",
       "\n",
       "    .dataframe thead th {\n",
       "        text-align: left;\n",
       "    }\n",
       "\n",
       "    .dataframe tbody tr th {\n",
       "        vertical-align: top;\n",
       "    }\n",
       "</style>\n",
       "<table border=\"1\" class=\"dataframe\">\n",
       "  <thead>\n",
       "    <tr style=\"text-align: right;\">\n",
       "      <th></th>\n",
       "      <th>Total Points for 2016</th>\n",
       "    </tr>\n",
       "    <tr>\n",
       "      <th>Team</th>\n",
       "      <th></th>\n",
       "    </tr>\n",
       "  </thead>\n",
       "  <tbody>\n",
       "    <tr>\n",
       "      <th>ARI</th>\n",
       "      <td>418</td>\n",
       "    </tr>\n",
       "    <tr>\n",
       "      <th>ATL</th>\n",
       "      <td>648</td>\n",
       "    </tr>\n",
       "    <tr>\n",
       "      <th>BAL</th>\n",
       "      <td>343</td>\n",
       "    </tr>\n",
       "    <tr>\n",
       "      <th>BUF</th>\n",
       "      <td>399</td>\n",
       "    </tr>\n",
       "    <tr>\n",
       "      <th>CAR</th>\n",
       "      <td>369</td>\n",
       "    </tr>\n",
       "  </tbody>\n",
       "</table>\n",
       "</div>"
      ],
      "text/plain": [
       "      Total Points for 2016\n",
       "Team                       \n",
       "ARI                     418\n",
       "ATL                     648\n",
       "BAL                     343\n",
       "BUF                     399\n",
       "CAR                     369"
      ]
     },
     "execution_count": 28,
     "metadata": {},
     "output_type": "execute_result"
    }
   ],
   "source": [
    "# Obtained all scores for season, including full season, called DataFrames on all.\n",
    "\n",
    "nfl_season_2014 = NFL_date_games[\"2014-09-04\":\"2015-02-01\"]\n",
    "scores_2014_team1 = nfl_season_2014.groupby(\"team1\").sum()[\"score1\"]\n",
    "scores_2014_team2 = nfl_season_2014.groupby(\"team2\").sum()[\"score2\"]\n",
    "scores_2014_df1 = pd.DataFrame(scores_2014_team1)\n",
    "scores_2014_df2 = pd.DataFrame(scores_2014_team2)\n",
    "scores_2014 = pd.concat([scores_2014_df1, scores_2014_df2], axis = 1)\n",
    "scores_2014[\"Total Points for 2014\"] = scores_2014[\"score1\"] + scores_2014[\"score2\"]\n",
    "del scores_2014[\"score1\"]\n",
    "del scores_2014[\"score2\"]\n",
    "scores_2014.index.name = \"Team\"\n",
    "\n",
    "nfl_season_2015 = NFL_date_games[\"2015-09-10\":\"2016-02-07\"]\n",
    "scores_2015_team1 = nfl_season_2015.groupby(\"team1\").sum()[\"score1\"]\n",
    "scores_2015_team2 = nfl_season_2015.groupby(\"team2\").sum()[\"score2\"]\n",
    "scores_2015_df1 = pd.DataFrame(scores_2015_team1)\n",
    "scores_2015_df2 = pd.DataFrame(scores_2015_team2)\n",
    "scores_2015 = pd.concat([scores_2015_df1, scores_2015_df2], axis = 1)\n",
    "scores_2015[\"Total Points for 2015\"] = scores_2015[\"score1\"] + scores_2015[\"score2\"]\n",
    "del scores_2015[\"score1\"]\n",
    "del scores_2015[\"score2\"]\n",
    "scores_2015.index.name = \"Team\"\n",
    "\n",
    "nfl_season_2016 = NFL_date_games[\"2016-09-08\":\"2017-02-05\"]\n",
    "scores_2016_team1 = nfl_season_2016.groupby(\"team1\").sum()[\"score1\"]\n",
    "scores_2016_team2 = nfl_season_2016.groupby(\"team2\").sum()[\"score2\"]\n",
    "scores_2016_df1 = pd.DataFrame(scores_2016_team1)\n",
    "scores_2016_df2 = pd.DataFrame(scores_2016_team2)\n",
    "scores_2016 = pd.concat([scores_2016_df1, scores_2016_df2], axis = 1)\n",
    "scores_2016[\"Total Points for 2016\"] = scores_2016[\"score1\"] + scores_2016[\"score2\"]\n",
    "del scores_2016[\"score1\"]\n",
    "del scores_2016[\"score2\"]\n",
    "scores_2016.index.name = \"Team\"\n",
    "\n",
    "nfl_team_scores.head()\n",
    "scores_2014.head()\n",
    "scores_2015.head()\n",
    "scores_2016.head()"
   ]
  },
  {
   "cell_type": "code",
   "execution_count": 29,
   "metadata": {
    "collapsed": true
   },
   "outputs": [],
   "source": [
    "#Getting final row for sums for each DF for question 1\n",
    "\n",
    "nfl_team_scores_sum = nfl_team_scores.loc['Total', 'Sum of Point']= nfl_team_scores['Total Points from 2014 to 2017'].sum()\n",
    "scores_2014_sum = scores_2014.loc['Total', 'Sum of Point']= scores_2014['Total Points for 2014'].sum()\n",
    "scores_2015_sum = scores_2015.loc['Total', 'Sum of Point']= scores_2015['Total Points for 2015'].sum()\n",
    "scores_2016_sum = scores_2016.loc['Total', 'Sum of Point']= scores_2016['Total Points for 2016'].sum()"
   ]
  },
  {
   "cell_type": "code",
   "execution_count": 30,
   "metadata": {},
   "outputs": [
    {
     "data": {
      "text/plain": [
       "36438.0"
      ]
     },
     "execution_count": 30,
     "metadata": {},
     "output_type": "execute_result"
    }
   ],
   "source": [
    "sum_all = nfl_team_scores[\"Total Points from 2014 to 2017\"].sum()\n",
    "sum_all"
   ]
  },
  {
   "cell_type": "markdown",
   "metadata": {},
   "source": [
    "### Player Stats from Kaggle"
   ]
  },
  {
   "cell_type": "code",
   "execution_count": 44,
   "metadata": {},
   "outputs": [],
   "source": [
    "with open('games_1512362753.8735218.json') as data_file:    \n",
    "    data = json.load(data_file)\n",
    "    \n",
    "# 1st data frame shows individual stats\n",
    "df1 = pd.DataFrame(data)\n",
    "\n",
    "with open(\"profiles_1512362725.022629.json\") as data_file2:\n",
    "    data2 = json.load(data_file2)\n",
    "    \n",
    "# 2nd data frame shows personal/home information about player\n",
    "#df2 = pd.DataFrame(data2)"
   ]
  },
  {
   "cell_type": "code",
   "execution_count": 51,
   "metadata": {},
   "outputs": [],
   "source": [
    "# Combine DFs\n",
    "\n",
    "\n",
    "\n",
    "\n"
   ]
  },
  {
   "cell_type": "markdown",
   "metadata": {},
   "source": [
    "### Make dataframe with last row of totals. Create plots from that"
   ]
  },
  {
   "cell_type": "code",
   "execution_count": 32,
   "metadata": {},
   "outputs": [],
   "source": [
    "x_axis = np.arange(len(nfl_team_scores))\n",
    "tick_locations = [value + 0.4 for value in x_axis]"
   ]
  },
  {
   "cell_type": "code",
   "execution_count": 37,
   "metadata": {},
   "outputs": [],
   "source": [
    "plt.figure(figsize=(20,3))\n",
    "plt.bar(x_axis, nfl_team_scores, color='r', alpha=0.5, align=\"edge\")\n",
    "plt.xticks(tick_locations, nfl_team_scores[\"Total Points from 2014 to 2017\"], rotation=\"vertical\")"
   ]
  },
  {
   "cell_type": "code",
   "execution_count": null,
   "metadata": {
    "collapsed": true
   },
   "outputs": [],
   "source": []
  }
 ],
 "metadata": {
  "kernelspec": {
   "display_name": "Python 3",
   "language": "python",
   "name": "python3"
  },
  "language_info": {
   "codemirror_mode": {
    "name": "ipython",
    "version": 3
   },
   "file_extension": ".py",
   "mimetype": "text/x-python",
   "name": "python",
   "nbconvert_exporter": "python",
   "pygments_lexer": "ipython3",
   "version": "3.6.3"
  }
 },
 "nbformat": 4,
 "nbformat_minor": 2
}
