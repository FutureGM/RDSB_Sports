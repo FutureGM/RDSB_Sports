{
 "cells": [
  {
   "cell_type": "code",
   "execution_count": 1,
   "metadata": {
    "collapsed": true
   },
   "outputs": [],
   "source": [
    "#Dependencies\n",
    "import os\n",
    "import urllib\n",
    "import json\n",
    "import csv\n",
    "import simplejson\n",
    "import pandas as pd\n",
    "import pytest\n",
    "import base64\n",
    "import requests\n",
    "from pprint import pprint\n",
    "from datetime import datetime\n",
    "from ohmysportsfeedspy.v1_0 import API_v1_0\n",
    "from ohmysportsfeedspy.v1_1 import API_v1_1\n",
    "from ohmysportsfeedspy.v1_2 import API_v1_2\n",
    "from ohmysportsfeedspy import MySportsFeeds\n",
    "msf = MySportsFeeds(version=\"1.2\")"
   ]
  },
  {
   "cell_type": "code",
   "execution_count": 209,
   "metadata": {},
   "outputs": [],
   "source": [
    "NFL_data = \"box_scores.csv\"\n",
    "NFL_data = pd.read_csv(NFL_data)\n",
    "NFL_data.head(1)"
   ]
  },
  {
   "cell_type": "code",
   "execution_count": 208,
   "metadata": {},
   "outputs": [],
   "source": [
    "team_scores = NFL_data[[\"date\",\"visitor\",\"home\",\"visitor_score\",\"home_score\"]]\n",
    "team_scores.head(1)"
   ]
  },
  {
   "cell_type": "code",
   "execution_count": 81,
   "metadata": {},
   "outputs": [],
   "source": [
    "NFL_games = \"nfl_games.csv\"\n",
    "NFL_games = pd.read_csv(NFL_games)\n",
    "NFL_date_games = NFL_games.set_index(\"date\")\n",
    "\n",
    "NFL_date_games = NFL_date_games[\"2014-09-04\":]"
   ]
  },
  {
   "cell_type": "code",
   "execution_count": 207,
   "metadata": {},
   "outputs": [],
   "source": [
    "NFL_date_games = NFL_date_games[[\"season\",\"team1\",\"team2\",\"score1\",\"score2\"]]\n",
    "nfl_scores = NFL_date_games\n",
    "nfl_scores.head()"
   ]
  },
  {
   "cell_type": "code",
   "execution_count": 122,
   "metadata": {},
   "outputs": [],
   "source": [
    "team1_scores = nfl_score.groupby(\"team1\").sum()[\"score1\"]\n",
    "team2_scores = nfl_score.groupby(\"team2\").sum()[\"score2\"]\n",
    "\n",
    "team1_scores_df = pd.DataFrame(team1_scores)\n",
    "team2_scores_df = pd.DataFrame(team2_scores)"
   ]
  },
  {
   "cell_type": "code",
   "execution_count": 206,
   "metadata": {},
   "outputs": [],
   "source": [
    "#Scores from 2014 to 2017\n",
    "nfl_team_scores = pd.concat([team1_scores_df, team2_scores_df], axis=1)\n",
    "nfl_team_scores[\"Total Points from 2014 to 2017\"] = nfl_team_scores[\"score1\"] + nfl_team_scores[\"score2\"]\n",
    "del nfl_team_scores[\"score1\"]\n",
    "del nfl_team_scores[\"score2\"]\n",
    "nfl_team_scores.head()"
   ]
  },
  {
   "cell_type": "code",
   "execution_count": null,
   "metadata": {
    "collapsed": true
   },
   "outputs": [],
   "source": [
    "# Obtained all scores for season, including full season, called DataFrames on all.\n",
    "\n",
    "nfl_season_2014 = NFL_date_games[\"2014-09-04\":\"2015-02-01\"]\n",
    "scores_2014_team1 = nfl_season_2014.groupby(\"team1\").sum()[\"score1\"]\n",
    "scores_2014_team2 = nfl_season_2014.groupby(\"team2\").sum()[\"score2\"]\n",
    "scores_2014_df1 = pd.DataFrame(scores_2014_team1)\n",
    "scores_2014_df2 = pd.DataFrame(scores_2014_team2)\n",
    "scores_2014 = pd.concat([scores_2014_df1, scores_2014_df2], axis = 1)\n",
    "scores_2014[\"Total Points for 2014\"] = scores_2014[\"score1\"] + scores_2014[\"score2\"]\n",
    "del scores_2014[\"score1\"]\n",
    "del scores_2014[\"score2\"]\n",
    "\n",
    "nfl_season_2015 = NFL_date_games[\"2015-09-10\":\"2016-02-07\"]\n",
    "scores_2015_team1 = nfl_season_2015.groupby(\"team1\").sum()[\"score1\"]\n",
    "scores_2015_team2 = nfl_season_2015.groupby(\"team2\").sum()[\"score2\"]\n",
    "scores_2015_df1 = pd.DataFrame(scores_2015_team1)\n",
    "scores_2015_df2 = pd.DataFrame(scores_2015_team2)\n",
    "scores_2015 = pd.concat([scores_2015_df1, scores_2015_df2], axis = 1)\n",
    "scores_2015[\"Total Points for 2015\"] = scores_2015[\"score1\"] + scores_2015[\"score2\"]\n",
    "del scores_2015[\"score1\"]\n",
    "del scores_2015[\"score2\"]\n",
    "\n",
    "\n",
    "nfl_season_2016 = NFL_date_games[\"2016-09-08\":\"2017-02-05\"]\n",
    "scores_2016_team1 = nfl_season_2016.groupby(\"team1\").sum()[\"score1\"]\n",
    "scores_2016_team2 = nfl_season_2016.groupby(\"team2\").sum()[\"score2\"]\n",
    "scores_2016_df1 = pd.DataFrame(scores_2016_team1)\n",
    "scores_2016_df2 = pd.DataFrame(scores_2016_team2)\n",
    "scores_2016 = pd.concat([scores_2016_df1, scores_2016_df2], axis = 1)\n",
    "scores_2016[\"Total Points for 2016\"] = scores_2016[\"score1\"] + scores_2016[\"score2\"]\n",
    "del scores_2016[\"score1\"]\n",
    "del scores_2016[\"score2\"]\n",
    "\n",
    "\n",
    "nfl_team_scores\n",
    "scores_2014\n",
    "scores_2015\n",
    "scores_2016"
   ]
  },
  {
   "cell_type": "code",
   "execution_count": 241,
   "metadata": {},
   "outputs": [],
   "source": [
    "#Getting final row for sums for each DF\n",
    "\n",
    "nfl_team_scores_sum = nfl_team_scores.loc['Total', 'Sum of Point']= nfl_team_scores['Total Points from 2014 to 2017'].sum()\n",
    "scores_2014_sum = scores_2014.loc['Total', 'Sum of Point']= scores_2014['Total Points for 2014'].sum()\n",
    "scores_2015_sum = scores_2015.loc['Total', 'Sum of Point']= scores_2015['Total Points for 2015'].sum()\n",
    "scores_2016_sum = scores_2016.loc['Total', 'Sum of Point']= scores_2016['Total Points for 2016'].sum()"
   ]
  },
  {
   "cell_type": "code",
   "execution_count": 247,
   "metadata": {},
   "outputs": [],
   "source": [
    "sum_all = nfl_team_scores[\"Total Points from 2014 to 2017\"].sum()"
   ]
  },
  {
   "cell_type": "code",
   "execution_count": null,
   "metadata": {
    "collapsed": true
   },
   "outputs": [],
   "source": []
  }
 ],
 "metadata": {
  "kernelspec": {
   "display_name": "Python 3",
   "language": "python",
   "name": "python3"
  },
  "language_info": {
   "codemirror_mode": {
    "name": "ipython",
    "version": 3
   },
   "file_extension": ".py",
   "mimetype": "text/x-python",
   "name": "python",
   "nbconvert_exporter": "python",
   "pygments_lexer": "ipython3",
   "version": "3.6.3"
  }
 },
 "nbformat": 4,
 "nbformat_minor": 2
}
