{
 "cells": [
  {
   "cell_type": "code",
   "execution_count": 59,
   "metadata": {
    "collapsed": true
   },
   "outputs": [],
   "source": [
    "#### Dependencies\n",
    "import os\n",
    "import numpy as np\n",
    "import matplotlib.pyplot as plt\n",
    "import matplotlib.patches as mpatches\n",
    "import urllib\n",
    "from urllib.request import urlopen\n",
    "import json\n",
    "import csv\n",
    "# import simplejson\n",
    "import pandas as pd\n",
    "# import pytest\n",
    "import base64\n",
    "import sys\n",
    "import glob\n",
    "if sys.version_info[0] < 3: \n",
    "    from StringIO import StringIO\n",
    "else:\n",
    "    from io import StringIO\n",
    "from bs4 import BeautifulSoup\n",
    "import requests\n",
    "import scipy.stats\n",
    "import statistics as s\n",
    "pd.options.display.max_rows = 999\n",
    "pd.options.display.max_columns = 999"
   ]
  },
  {
   "cell_type": "markdown",
   "metadata": {},
   "source": [
    "# Observations:"
   ]
  },
  {
   "cell_type": "code",
   "execution_count": 60,
   "metadata": {
    "collapsed": true
   },
   "outputs": [],
   "source": [
    "# Pass Pct. seems to have a high impact\n",
    "# Sacks seem to not be significantly impactful for an offense\n",
    "# QBR seems to have significant impact\n",
    "#"
   ]
  },
  {
   "cell_type": "code",
   "execution_count": 412,
   "metadata": {
    "collapsed": true,
    "scrolled": false
   },
   "outputs": [],
   "source": [
    "#Top 5 Teams Bar Chart\n",
    "overall = \"NFL_Standings/Overall/Overall_Standings_Combined.csv\"\n",
    "overall = pd.read_csv(overall)\n",
    "overall.drop([\"Unnamed: 0\", \"Unnamed: 0.1\"], axis=1, inplace=True)\n",
    "overall.set_index(\"Season\")\n",
    "overall.head(8)\n",
    "new_england = mpatches.Patch(color='navy', label='Tier 1')\n",
    "pit_steelers = mpatches.Patch(color='orange', label=\"Def Tier 1\")\n",
    "sea_seahawks = mpatches.Patch(color='navy')\n",
    "gb_packers = mpatches.Patch(color='navy')\n",
    "kc_chiefs = mpatches.Patch(color='navy')\n",
    "car_panthers = mpatches.Patch(color='navy')\n",
    "den_broncos = mpatches.Patch(color='navy')\n",
    "ari_cardinals = mpatches.Patch(color='navy')\n",
    "colors = [\"navy\", \"navy\", \"navy\", \"navy\", \"navy\", \"navy\", \"navy\", \"navy\"]\n",
    "cle_browns = mpatches.Patch(color='crimson', label=\"Tier 2\")\n",
    "stl_rams = mpatches.Patch(color='green', label= \"Def Tier 2\")\n",
    "sd_chargers = mpatches.Patch(color='crimson')\n",
    "chi_bears = mpatches.Patch(color='crimson')\n",
    "sf_49ers = mpatches.Patch(color='crimson')\n",
    "tb_bucs = mpatches.Patch(color='crimson')\n",
    "jax_jags = mpatches.Patch(color='crimson')\n",
    "ny_jets = mpatches.Patch(color='crimson')\n",
    "colors2 = [\"crimson\", \"crimson\", \"crimson\", \"crimson\", \"crimson\", \"crimson\", \"crimson\", \"crimson\"]\n",
    "handles = [new_england, cle_browns, pit_steelers, stl_rams]"
   ]
  },
  {
   "cell_type": "markdown",
   "metadata": {},
   "source": [
    "# Offensive Plots"
   ]
  },
  {
   "cell_type": "code",
   "execution_count": 261,
   "metadata": {
    "collapsed": true
   },
   "outputs": [],
   "source": [
    "#Y values for all Offensive Categories\n",
    "team_df1 = overall.groupby([\"#Team Abbr.\"]).sum()\n",
    "team_df2 = overall\n",
    "del team_df1[\"#Team ID\"]\n",
    "del team_df1[\"#Rank\"]\n",
    "tier1 = team_df1.nlargest(8, \"#Wins\")\n",
    "\n",
    "#Categories for Tier 1 Teams\n",
    "x1 = tier1[\"#Wins\"]\n",
    "x1 = pd.DataFrame(x1)\n",
    "x1\n",
    "#Passing\n",
    "ypAtt = tier1[\"#PassAttempts\"]\n",
    "ypAtt = pd.DataFrame(ypAtt)\n",
    "ypCom = tier1[\"#PassCompletions\"]\n",
    "ypCom = pd.DataFrame(ypCom)\n",
    "ypPct = tier1[\"#PassPct\"]\n",
    "ypPct = pd.DataFrame(ypPct)\n",
    "ypAPG = tier1[\"#PassAttemptsPerGame\"]\n",
    "ypAPG = pd.DataFrame(ypAPG)\n",
    "ypGY = tier1[\"#PassGrossYards\"]\n",
    "ypGY = pd.DataFrame(ypGY)\n",
    "ypNY = tier1[\"#PassNetYards\"]\n",
    "ypNY = pd.DataFrame(ypNY)\n",
    "ypYPA = tier1[\"#PassYardsPerAtt\"]\n",
    "ypYPA = pd.DataFrame(ypYPA)\n",
    "ypYPG = tier1[\"#PassYardsPerGame\"]\n",
    "ypYPG = pd.DataFrame(ypYPG)\n",
    "ypTD = tier1[\"#PassTD\"]\n",
    "ypTD = pd.DataFrame(ypTD)\n",
    "ypTDPct = tier1[\"#PassTDPct\"]\n",
    "ypTDPct = pd.DataFrame(ypTDPct)\n",
    "ypInt = tier1[\"#PassInt\"]\n",
    "ypInt = pd.DataFrame(ypInt)\n",
    "ypIntPct = tier1[\"#PassIntPct\"]\n",
    "ypIntPct = pd.DataFrame(ypIntPct)\n",
    "ypLng = tier1[\"#PassLng\"]\n",
    "ypLng = pd.DataFrame(ypLng)\n",
    "ypAvg = tier1[\"#PassAvg\"]\n",
    "ypAvg = pd.DataFrame(ypAvg)\n",
    "yp20 = tier1[\"#Pass20Plus\"]\n",
    "yp20 = pd.DataFrame(yp20)\n",
    "yp40 = tier1[\"#Pass40Plus\"]\n",
    "yp40 = pd.DataFrame(yp40)\n",
    "ypSack = tier1[\"#PassSacks\"]\n",
    "ypSack = pd.DataFrame(ypSack)\n",
    "ypSackY = tier1[\"#PassSackY\"]\n",
    "ypSackY = pd.DataFrame(ypSackY)\n",
    "ypQBR = tier1[\"#QBRating\"]\n",
    "ypQBR = pd.DataFrame(ypQBR)\n",
    "\n",
    "#Rushing\n",
    "yRAtt = tier1[\"#RushAttempts\"]\n",
    "yRAtt = pd.DataFrame(yRAtt)\n",
    "yRAPG = tier1[\"#RushAttemptsPerGame\"]\n",
    "yRAPG = pd.DataFrame(yRAPG)\n",
    "yRYds = tier1[\"#RushYards\"]\n",
    "yRYds = pd.DataFrame(yRYds)\n",
    "yRAvg = tier1[\"#RushAverage\"]\n",
    "yRAvg = pd.DataFrame(yRAvg)\n",
    "yRYPG = tier1[\"#RushYardsPerGame\"]\n",
    "yRYPG = pd.DataFrame(yRYPG)\n",
    "yRTD = tier1[\"#RushTD\"]\n",
    "yRTD = pd.DataFrame(yRTD)\n",
    "yRLng = tier1[\"#RushLng\"]\n",
    "yRLng = pd.DataFrame(yRLng)\n",
    "yR1st = tier1[\"#Rush1stDowns\"]\n",
    "yR1st = pd.DataFrame(yR1st)\n",
    "yR1Pct = tier1[\"#Rush1stDownsPct\"]\n",
    "yR1Pct = pd.DataFrame(yR1Pct)\n",
    "yR20 = tier1[\"#Rush20Plus\"]\n",
    "yR20 = pd.DataFrame(yR20)\n",
    "yR40 = tier1[\"#Rush40Plus\"]\n",
    "yR40 = pd.DataFrame(yR40)\n",
    "yRFmb = tier1[\"#RushFumbles\"]\n",
    "\n",
    "#Receiving\n",
    "yRFmb = pd.DataFrame(yRFmb)\n",
    "ypRec = tier1[\"#Receptions\"]\n",
    "ypRec = pd.DataFrame(ypRec)\n",
    "ypReYds = tier1[\"#RecYards\"]\n",
    "ypReYds = pd.DataFrame(ypReYds)\n",
    "ypRAvg = tier1[\"#RecAverage\"]\n",
    "ypRAvg = pd.DataFrame(ypRAvg)\n",
    "ypRYPG = tier1[\"#RecYardsPerGame\"]\n",
    "ypRYPG = pd.DataFrame(ypRYPG)\n",
    "ypRecTD = tier1[\"#RecTD\"]\n",
    "ypRecTD = pd.DataFrame(ypRecTD)\n",
    "ypRecLng = tier1[\"#RecLng\"]\n",
    "ypRecLng = pd.DataFrame(ypRecLng)\n",
    "ypRec1st = tier1[\"#Rec1stDowns\"]\n",
    "ypRec1st = pd.DataFrame(ypRec1st)\n",
    "ypRec20 = tier1[\"#Rec20Plus\"]\n",
    "ypRec20 = pd.DataFrame(ypRec20)\n",
    "ypRec40 = tier1[\"#Rec40Plus\"]\n",
    "ypRec40 = pd.DataFrame(ypRec40)\n",
    "ypRecFmb = tier1[\"#RecFumbles\"]\n",
    "ypRecFmb = pd.DataFrame(ypRecFmb)"
   ]
  },
  {
   "cell_type": "code",
   "execution_count": 262,
   "metadata": {
    "collapsed": true
   },
   "outputs": [],
   "source": [
    "#Categories for Tier 2 Teams\n",
    "#Y values for all Offensive Categories\n",
    "team_df1 = overall.groupby([\"#Team Abbr.\"]).sum()\n",
    "team_df2 = overall\n",
    "del team_df1[\"#Team ID\"]\n",
    "del team_df1[\"#Rank\"]\n",
    "tier2 = team_df1.nsmallest(10, \"#Wins\")\n",
    "tier2 = tier2.drop([\"LAC\", \"LA\"])\n",
    "x2 = tier2[\"#Wins\"]\n",
    "x2 = pd.DataFrame(x2)\n",
    "#Passing\n",
    "ypAtt2 = tier2[\"#PassAttempts\"]\n",
    "ypAtt2 = pd.DataFrame(ypAtt2)\n",
    "ypCom2 = tier2[\"#PassCompletions\"]\n",
    "ypCom2 = pd.DataFrame(ypCom2)\n",
    "ypPct2 = tier2[\"#PassPct\"]\n",
    "ypPct2 = pd.DataFrame(ypPct2)\n",
    "ypAPG2 = tier2[\"#PassAttemptsPerGame\"]\n",
    "ypAPG2 = pd.DataFrame(ypAPG2)\n",
    "ypGY2 = tier2[\"#PassGrossYards\"]\n",
    "ypGY2 = pd.DataFrame(ypGY2)\n",
    "ypNY2 = tier2[\"#PassNetYards\"]\n",
    "ypNY2 = pd.DataFrame(ypNY2)\n",
    "ypYPA2 = tier2[\"#PassYardsPerAtt\"]\n",
    "ypYPA2 = pd.DataFrame(ypYPA2)\n",
    "ypYPG2 = tier2[\"#PassYardsPerGame\"]\n",
    "ypYPG2 = pd.DataFrame(ypYPG2)\n",
    "ypTD2 = tier2[\"#PassTD\"]\n",
    "ypTD2 = pd.DataFrame(ypTD2)\n",
    "ypTDPct2 = tier2[\"#PassTDPct\"]\n",
    "ypTDPct2 = pd.DataFrame(ypTDPct2)\n",
    "ypInt2 = tier2[\"#PassInt\"]\n",
    "ypInt2 = pd.DataFrame(ypInt2)\n",
    "ypIntPct2 = tier2[\"#PassIntPct\"]\n",
    "ypIntPct2 = pd.DataFrame(ypIntPct2)\n",
    "ypLng2 = tier2[\"#PassLng\"]\n",
    "ypLng2 = pd.DataFrame(ypLng2)\n",
    "ypAvg2 = tier2[\"#PassAvg\"]\n",
    "ypAvg2 = pd.DataFrame(ypAvg2)\n",
    "yp202 = tier2[\"#Pass20Plus\"]\n",
    "yp202 = pd.DataFrame(yp202)\n",
    "yp402 = tier2[\"#Pass40Plus\"]\n",
    "yp402 = pd.DataFrame(yp402)\n",
    "ypSack2 = tier2[\"#PassSacks\"]\n",
    "ypSack2 = pd.DataFrame(ypSack2)\n",
    "ypSackY2 = tier2[\"#PassSackY\"]\n",
    "ypSackY2 = pd.DataFrame(ypSackY2)\n",
    "ypQBR2 = tier2[\"#QBRating\"]\n",
    "ypQBR2 = pd.DataFrame(ypQBR2)\n",
    "\n",
    "#Rushing\n",
    "yRAtt2 = tier2[\"#RushAttempts\"]\n",
    "yRAtt2 = pd.DataFrame(yRAtt2)\n",
    "yRAPG2 = tier2[\"#RushAttemptsPerGame\"]\n",
    "yRAPG2 = pd.DataFrame(yRAPG2)\n",
    "yRYds2 = tier2[\"#RushYards\"]\n",
    "yRYds2 = pd.DataFrame(yRYds2)\n",
    "yRAvg2 = tier2[\"#RushAverage\"]\n",
    "yRAvg2 = pd.DataFrame(yRAvg2)\n",
    "yRYPG2 = tier2[\"#RushYardsPerGame\"]\n",
    "yRYPG2 = pd.DataFrame(yRYPG2)\n",
    "yRTD2 = tier2[\"#RushTD\"]\n",
    "yRTD2 = pd.DataFrame(yRTD2)\n",
    "yRLng2 = tier2[\"#RushLng\"]\n",
    "yRLng2 = pd.DataFrame(yRLng2)\n",
    "yR1st2 = tier2[\"#Rush1stDowns\"]\n",
    "yR1st2 = pd.DataFrame(yR1st2)\n",
    "yR1Pct2 = tier2[\"#Rush1stDownsPct\"]\n",
    "yR1Pct2 = pd.DataFrame(yR1Pct2)\n",
    "yR202 = tier2[\"#Rush20Plus\"]\n",
    "yR202 = pd.DataFrame(yR202)\n",
    "yR402 = tier2[\"#Rush40Plus\"]\n",
    "yR402 = pd.DataFrame(yR402)\n",
    "yRFmb2 = tier2[\"#RushFumbles\"]\n",
    "\n",
    "#Receiving\n",
    "yRFmb2 = pd.DataFrame(yRFmb2)\n",
    "ypRec2 = tier2[\"#Receptions\"]\n",
    "ypRec2 = pd.DataFrame(ypRec2)\n",
    "ypReYds2 = tier2[\"#RecYards\"]\n",
    "ypReYds2 = pd.DataFrame(ypReYds2)\n",
    "ypRAvg2 = tier2[\"#RecAverage\"]\n",
    "ypRAvg2 = pd.DataFrame(ypRAvg2)\n",
    "ypRYPG2 = tier2[\"#RecYardsPerGame\"]\n",
    "ypRYPG2 = pd.DataFrame(ypRYPG2)\n",
    "ypRecTD2 = tier2[\"#RecTD\"]\n",
    "ypRecTD2 = pd.DataFrame(ypRecTD2)\n",
    "ypRecLng2 = tier2[\"#RecLng\"]\n",
    "ypRecLng2 = pd.DataFrame(ypRecLng2)\n",
    "ypRec1st2 = tier2[\"#Rec1stDowns\"]\n",
    "ypRec1st2 = pd.DataFrame(ypRec1st2)\n",
    "ypRec202 = tier2[\"#Rec20Plus\"]\n",
    "ypRec202 = pd.DataFrame(ypRec202)\n",
    "ypRec402 = tier2[\"#Rec40Plus\"]\n",
    "ypRec402 = pd.DataFrame(ypRec402)\n",
    "ypRecFmb2 = tier2[\"#RecFumbles\"]\n",
    "ypRecFmb2 = pd.DataFrame(ypRecFmb2)"
   ]
  },
  {
   "cell_type": "code",
   "execution_count": 263,
   "metadata": {},
   "outputs": [
    {
     "data": {
      "text/plain": [
       "41"
      ]
     },
     "execution_count": 263,
     "metadata": {},
     "output_type": "execute_result"
    }
   ],
   "source": [
    "#Total Offense List\n",
    "off_list=[ypAtt[\"#PassAttempts\"], ypCom[\"#PassCompletions\"], ypPct[\"#PassPct\"], ypAPG[\"#PassAttemptsPerGame\"], ypGY[\"#PassGrossYards\"], \n",
    "          ypNY[\"#PassNetYards\"], ypYPA[\"#PassYardsPerAtt\"], ypYPG[\"#PassYardsPerGame\"], ypTD[\"#PassTD\"], ypTDPct[\"#PassTDPct\"],\n",
    "          ypInt[\"#PassInt\"], ypIntPct[\"#PassIntPct\"], ypLng[\"#PassLng\"], ypAvg[\"#PassAvg\"], ypSack[\"#PassSacks\"],\n",
    "          ypSackY[\"#PassSackY\"], yp20[\"#Pass20Plus\"], yp40[\"#Pass40Plus\"], ypQBR[\"#QBRating\"],\n",
    "          yRAtt[\"#RushAttempts\"], yRAPG[\"#RushAttemptsPerGame\"], yRYds[\"#RushYards\"], yRAvg[\"#RushAverage\"], yRYPG[\"#RushYardsPerGame\"], \n",
    "          yRTD[\"#RushTD\"], yRLng[\"#RushLng\"], yR1st[\"#Rush1stDowns\"], yR1Pct[\"#Rush1stDownsPct\"], yR20[\"#Rush20Plus\"],\n",
    "          yR40[\"#Rush40Plus\"], yRFmb[\"#RushFumbles\"], ypRec[\"#Receptions\"], ypReYds[\"#RecYards\"], ypRAvg[\"#RecAverage\"],\n",
    "          ypRYPG[\"#RecYardsPerGame\"], ypRecTD[\"#RecTD\"], ypRecLng[\"#RecLng\"], ypRec1st[\"#Rec1stDowns\"], ypRec20[\"#Rec20Plus\"], \n",
    "          ypRec40[\"#Rec40Plus\"], ypRecFmb[\"#RecFumbles\"]]\n",
    "off_list = pd.DataFrame(off_list)\n",
    "len(off_list)"
   ]
  },
  {
   "cell_type": "code",
   "execution_count": 264,
   "metadata": {},
   "outputs": [
    {
     "data": {
      "text/plain": [
       "41"
      ]
     },
     "execution_count": 264,
     "metadata": {},
     "output_type": "execute_result"
    }
   ],
   "source": [
    "off_list2=[ypAtt2[\"#PassAttempts\"], ypCom2[\"#PassCompletions\"], ypPct2[\"#PassPct\"], ypAPG2[\"#PassAttemptsPerGame\"], ypGY2[\"#PassGrossYards\"], \n",
    "          ypNY2[\"#PassNetYards\"], ypYPA2[\"#PassYardsPerAtt\"], ypYPG2[\"#PassYardsPerGame\"], ypTD2[\"#PassTD\"], ypTDPct2[\"#PassTDPct\"],\n",
    "          ypInt2[\"#PassInt\"], ypIntPct2[\"#PassIntPct\"], ypLng2[\"#PassLng\"], ypAvg2[\"#PassAvg\"], ypSack2[\"#PassSacks\"],\n",
    "          ypSackY2[\"#PassSackY\"], yp202[\"#Pass20Plus\"], yp402[\"#Pass40Plus\"], ypQBR2[\"#QBRating\"],\n",
    "          yRAtt2[\"#RushAttempts\"], yRAPG2[\"#RushAttemptsPerGame\"], yRYds2[\"#RushYards\"], yRAvg2[\"#RushAverage\"], yRYPG2[\"#RushYardsPerGame\"], \n",
    "          yRTD2[\"#RushTD\"], yRLng2[\"#RushLng\"], yR1st2[\"#Rush1stDowns\"], yR1Pct2[\"#Rush1stDownsPct\"], yR202[\"#Rush20Plus\"],\n",
    "          yR402[\"#Rush40Plus\"], yRFmb2[\"#RushFumbles\"], ypRec2[\"#Receptions\"], ypReYds2[\"#RecYards\"], ypRAvg2[\"#RecAverage\"],\n",
    "          ypRYPG2[\"#RecYardsPerGame\"], ypRecTD2[\"#RecTD\"], ypRecLng2[\"#RecLng\"], ypRec1st2[\"#Rec1stDowns\"], ypRec202[\"#Rec20Plus\"], \n",
    "          ypRec402[\"#Rec40Plus\"], ypRecFmb2[\"#RecFumbles\"]]\n",
    "off_list2 = pd.DataFrame(off_list2)\n",
    "len(off_list2)"
   ]
  },
  {
   "cell_type": "code",
   "execution_count": 265,
   "metadata": {
    "collapsed": true
   },
   "outputs": [],
   "source": [
    "#QB List\n",
    "qb_list=[ypAtt[\"#PassAttempts\"], ypCom[\"#PassCompletions\"], ypPct[\"#PassPct\"], ypAPG[\"#PassAttemptsPerGame\"], ypGY[\"#PassGrossYards\"], \n",
    "          ypNY[\"#PassNetYards\"], ypYPA[\"#PassYardsPerAtt\"], ypYPG[\"#PassYardsPerGame\"], ypTD[\"#PassTD\"], ypTDPct[\"#PassTDPct\"],\n",
    "          ypInt[\"#PassInt\"], ypIntPct[\"#PassIntPct\"], ypLng[\"#PassLng\"], ypAvg[\"#PassAvg\"], ypSack[\"#PassSacks\"],\n",
    "          ypSackY[\"#PassSackY\"], yp20[\"#Pass20Plus\"], yp40[\"#Pass40Plus\"], ypQBR[\"#QBRating\"]]"
   ]
  },
  {
   "cell_type": "code",
   "execution_count": 266,
   "metadata": {
    "collapsed": true
   },
   "outputs": [],
   "source": [
    "#QB List\n",
    "qb_list2=[ypAtt2[\"#PassAttempts\"], ypCom2[\"#PassCompletions\"], ypPct2[\"#PassPct\"], ypAPG2[\"#PassAttemptsPerGame\"], ypGY2[\"#PassGrossYards\"], \n",
    "          ypNY2[\"#PassNetYards\"], ypYPA2[\"#PassYardsPerAtt\"], ypYPG2[\"#PassYardsPerGame\"], ypTD2[\"#PassTD\"], ypTDPct2[\"#PassTDPct\"],\n",
    "          ypInt2[\"#PassInt\"], ypIntPct2[\"#PassIntPct\"], ypLng2[\"#PassLng\"], ypAvg2[\"#PassAvg\"], ypSack2[\"#PassSacks\"],\n",
    "          ypSackY2[\"#PassSackY\"], yp202[\"#Pass20Plus\"], yp402[\"#Pass40Plus\"], ypQBR2[\"#QBRating\"]]"
   ]
  },
  {
   "cell_type": "code",
   "execution_count": 267,
   "metadata": {
    "collapsed": true
   },
   "outputs": [],
   "source": [
    "#Rush Off List\n",
    "rush_list = [yRAtt[\"#RushAttempts\"], yRAPG[\"#RushAttemptsPerGame\"], yRYds[\"#RushYards\"], yRAvg[\"#RushAverage\"], yRYPG[\"#RushYardsPerGame\"], \n",
    "             yRTD[\"#RushTD\"], yRLng[\"#RushLng\"], yR1st[\"#Rush1stDowns\"], yR1Pct[\"#Rush1stDownsPct\"], yR20[\"#Rush20Plus\"],\n",
    "             yR40[\"#Rush40Plus\"], yRFmb[\"#RushFumbles\"]]\n",
    "rush_list_Array = [x1[\"#Wins\"], x1[\"#Wins\"], x1[\"#Wins\"], x1[\"#Wins\"], x1[\"#Wins\"], \n",
    "                      x1[\"#Wins\"], x1[\"#Wins\"], x1[\"#Wins\"], x1[\"#Wins\"], x1[\"#Wins\"],\n",
    "                      x1[\"#Wins\"], x1[\"#Wins\"]]"
   ]
  },
  {
   "cell_type": "code",
   "execution_count": 268,
   "metadata": {
    "collapsed": true
   },
   "outputs": [],
   "source": [
    "#Rush Off List\n",
    "rush_list2 = [\n",
    "          yRAtt2[\"#RushAttempts\"], yRAPG2[\"#RushAttemptsPerGame\"], yRYds2[\"#RushYards\"], yRAvg2[\"#RushAverage\"], yRYPG2[\"#RushYardsPerGame\"], \n",
    "          yRTD2[\"#RushTD\"], yRLng2[\"#RushLng\"], yR1st2[\"#Rush1stDowns\"], yR1Pct2[\"#Rush1stDownsPct\"], yR202[\"#Rush20Plus\"],\n",
    "          yR402[\"#Rush40Plus\"], yRFmb2[\"#RushFumbles\"]]"
   ]
  },
  {
   "cell_type": "code",
   "execution_count": 269,
   "metadata": {
    "collapsed": true
   },
   "outputs": [],
   "source": [
    "#Rec Off List\n",
    "rec_list = [ypRec[\"#Receptions\"], ypReYds[\"#RecYards\"], ypRAvg[\"#RecAverage\"], ypRYPG[\"#RecYardsPerGame\"], ypRecTD[\"#RecTD\"], \n",
    "            ypRecLng[\"#RecLng\"], ypRec1st[\"#Rec1stDowns\"], ypRec20[\"#Rec20Plus\"], ypRec40[\"#Rec40Plus\"], ypRecFmb[\"#RecFumbles\"]]\n",
    "rec_list_array = [x1[\"#Wins\"], x1[\"#Wins\"], x1[\"#Wins\"], x1[\"#Wins\"], x1[\"#Wins\"], \n",
    "                  x1[\"#Wins\"], x1[\"#Wins\"], x1[\"#Wins\"], x1[\"#Wins\"], x1[\"#Wins\"]]"
   ]
  },
  {
   "cell_type": "code",
   "execution_count": 270,
   "metadata": {
    "collapsed": true
   },
   "outputs": [],
   "source": [
    "#Rec Off List\n",
    "rec_list2 = [ypRec2[\"#Receptions\"], ypReYds2[\"#RecYards\"], ypRAvg2[\"#RecAverage\"], ypRYPG2[\"#RecYardsPerGame\"], ypRecTD2[\"#RecTD\"], \n",
    "             ypRecLng2[\"#RecLng\"], ypRec1st2[\"#Rec1stDowns\"], ypRec202[\"#Rec20Plus\"], ypRec402[\"#Rec40Plus\"], ypRecFmb2[\"#RecFumbles\"]]"
   ]
  },
  {
   "cell_type": "markdown",
   "metadata": {},
   "source": [
    "### Offense Plots"
   ]
  },
  {
   "cell_type": "code",
   "execution_count": 457,
   "metadata": {},
   "outputs": [
    {
     "data": {
      "image/png": "[encoded data removed]",
      "text/plain": [
       "<matplotlib.figure.Figure at 0x1e8702ee3c8>"
      ]
     },
     "metadata": {},
     "output_type": "display_data"
    },
    {
     "data": {
      "text/plain": [
       "<matplotlib.figure.Figure at 0x1e86f9a5780>"
      ]
     },
     "metadata": {},
     "output_type": "display_data"
    },
    {
     "name": "stdout",
     "output_type": "stream",
     "text": [
      "#Team Abbr.\n",
      "NE     145\n",
      "PIT    123\n",
      "SEA    199\n",
      "GB     177\n",
      "KC     171\n",
      "CAR    163\n",
      "DEN    160\n",
      "ARI    157\n",
      "Name: #PassSacks, dtype: int64 #Team Abbr.\n",
      "CLE    199\n",
      "STL     65\n",
      "SD     112\n",
      "CHI    142\n",
      "SF     195\n",
      "TB     156\n",
      "JAX    186\n",
      "NYJ    151\n",
      "Name: #PassSacks, dtype: int64 #Team Abbr.\n",
      "NE     190\n",
      "PIT    188\n",
      "SEA    169\n",
      "GB     187\n",
      "KC     159\n",
      "CAR    202\n",
      "DEN    181\n",
      "ARI    159\n",
      "Name: #Sacks, dtype: int64 #Team Abbr.\n",
      "CLE    120\n",
      "STL     83\n",
      "SD      93\n",
      "CHI    154\n",
      "SF     127\n",
      "TB     133\n",
      "JAX    177\n",
      "NYJ    139\n",
      "Name: #Sacks, dtype: int64\n"
     ]
    }
   ],
   "source": [
    "# #First Plot, QB Stats\n",
    "# #If not enough colors, use facecolors= np.random.rand(3) in plt.scatter()\n",
    "yplot_Pas = np.array(qb_list[14])\n",
    "xplot_Pas = np.array([x1[\"#Wins\"]])\n",
    "yplot_Pas2 = np.array(qb_list2[14])\n",
    "xplot_Pas2 = np.array([x2[\"#Wins\"]])\n",
    "plt.scatter(xplot_Pas2, \n",
    "            yplot_Pas2,\n",
    "            s=15,\n",
    "            facecolors=colors2, \n",
    "            alpha=0.8,\n",
    "            linewidth=1)\n",
    "plt.scatter(x=xplot_Pas, \n",
    "            y=yplot_Pas,\n",
    "            s=15,\n",
    "            facecolors=colors, \n",
    "            alpha=0.8,\n",
    "            linewidth=1)\n",
    "yplot_Pas3 = np.array(def_list[3])\n",
    "xplot_Pas3 = np.array([x1[\"#Wins\"]])\n",
    "yplot_Pas4 = np.array(def_list2[3])\n",
    "xplot_Pas4 = np.array([x2[\"#Wins\"]])\n",
    "plt.scatter(xplot_Pas3, \n",
    "            yplot_Pas3,\n",
    "            s=15,\n",
    "            facecolors=\"orange\", \n",
    "            alpha=0.8,\n",
    "            linewidth=1)\n",
    "plt.scatter(x=xplot_Pas4, \n",
    "            y=yplot_Pas4,\n",
    "            s=15,\n",
    "            facecolors=\"green\", \n",
    "            alpha=0.8,\n",
    "            linewidth=1)\n",
    "plt.grid(True)\n",
    "plt.legend(handles=handles, loc=\"upper right\")\n",
    "plt.title(\"Overall Wins vs. Sacks\", fontsize=20)\n",
    "plt.ylabel(\"Sacks\", fontsize=20)\n",
    "plt.xlabel(\"Wins\", fontsize=20)\n",
    "plt.ylim(0,220)\n",
    "plt.xlim(0,100)\n",
    "plt.yticks(range(0, 220, 20))\n",
    "plt.figure(figsize=(30,30), dpi=80)\n",
    "plt.savefig(\"Sacks.png\")\n",
    "plt.show()\n",
    "print(qb_list[14], qb_list2[14], def_list[3], def_list2[3])"
   ]
  },
  {
   "cell_type": "code",
   "execution_count": 456,
   "metadata": {},
   "outputs": [
    {
     "data": {
      "image/png": "[encoded data removed]",
      "text/plain": [
       "<matplotlib.figure.Figure at 0x1e86f271080>"
      ]
     },
     "metadata": {},
     "output_type": "display_data"
    },
    {
     "data": {
      "text/plain": [
       "<matplotlib.figure.Figure at 0x1e86fb2f748>"
      ]
     },
     "metadata": {},
     "output_type": "display_data"
    },
    {
     "name": "stdout",
     "output_type": "stream",
     "text": [
      "#Team Abbr.\n",
      "NE      957\n",
      "PIT     871\n",
      "SEA    1329\n",
      "GB     1274\n",
      "KC      992\n",
      "CAR    1236\n",
      "DEN    1235\n",
      "ARI    1119\n",
      "Name: #PassSackY, dtype: int64 #Team Abbr.\n",
      "CLE    1389\n",
      "STL     452\n",
      "SD      682\n",
      "CHI     828\n",
      "SF     1215\n",
      "TB     1173\n",
      "JAX    1211\n",
      "NYJ     888\n",
      "Name: #PassSackY, dtype: int64 #Team Abbr.\n",
      "NE     1249\n",
      "PIT    1261\n",
      "SEA    1162\n",
      "GB     1325\n",
      "KC      873\n",
      "CAR    1457\n",
      "DEN    1223\n",
      "ARI    1349\n",
      "Name: #SackYds, dtype: int64 #Team Abbr.\n",
      "NE     1249\n",
      "PIT    1261\n",
      "SEA    1162\n",
      "GB     1325\n",
      "KC      873\n",
      "CAR    1457\n",
      "DEN    1223\n",
      "ARI    1349\n",
      "Name: #SackYds, dtype: int64\n"
     ]
    }
   ],
   "source": [
    "yplot_Pas = np.array(qb_list[15])\n",
    "xplot_Pas = np.array([x1[\"#Wins\"]])\n",
    "yplot_Pas2 = np.array(qb_list2[15])\n",
    "xplot_Pas2 = np.array([x2[\"#Wins\"]])\n",
    "plt.scatter(xplot_Pas2, \n",
    "            yplot_Pas2,\n",
    "            s=15,\n",
    "            facecolors=colors2, \n",
    "            alpha=0.8,\n",
    "            linewidth=1)\n",
    "plt.scatter(x=xplot_Pas, \n",
    "            y=yplot_Pas,\n",
    "            s=15,\n",
    "            facecolors=colors, \n",
    "            alpha=0.8,\n",
    "            linewidth=1)\n",
    "yplot_Pas3 = np.array(def_list[4])\n",
    "xplot_Pas3 = np.array([x1[\"#Wins\"]])\n",
    "yplot_Pas4 = np.array(def_list2[4])\n",
    "xplot_Pas4 = np.array([x2[\"#Wins\"]])\n",
    "plt.scatter(xplot_Pas3, \n",
    "            yplot_Pas3,\n",
    "            s=15,\n",
    "            facecolors=\"orange\", \n",
    "            alpha=0.8,\n",
    "            linewidth=1)\n",
    "plt.scatter(x=xplot_Pas4, \n",
    "            y=yplot_Pas4,\n",
    "            s=15,\n",
    "            facecolors=\"green\", \n",
    "            alpha=0.8,\n",
    "            linewidth=1)\n",
    "plt.grid(True)\n",
    "plt.legend(handles=handles, loc=\"upper right\")\n",
    "plt.title(\"Overall Wins vs. Sack Yards\", fontsize=20)\n",
    "plt.ylabel(\"Sack Yards\", fontsize=20)\n",
    "plt.xlabel(\"Wins\", fontsize=20)\n",
    "plt.ylim(0,1500)\n",
    "plt.xlim(0,70)\n",
    "plt.yticks(range(0, 1500, 100))\n",
    "plt.figure(figsize=(30,30), dpi=80)\n",
    "plt.savefig(\"SackYards.png\")\n",
    "plt.show()\n",
    "print(qb_list[15], qb_list2[15], def_list[4], def_list[4])"
   ]
  },
  {
   "cell_type": "code",
   "execution_count": 455,
   "metadata": {},
   "outputs": [
    {
     "data": {
      "image/png": "[encoded data removed]",
      "text/plain": [
       "<matplotlib.figure.Figure at 0x1e870310710>"
      ]
     },
     "metadata": {},
     "output_type": "display_data"
    },
    {
     "data": {
      "text/plain": [
       "<matplotlib.figure.Figure at 0x1e86ead5320>"
      ]
     },
     "metadata": {},
     "output_type": "display_data"
    },
    {
     "name": "stdout",
     "output_type": "stream",
     "text": [
      "#Team Abbr.\n",
      "NE     98.7250\n",
      "PIT    82.4000\n",
      "SEA    83.4750\n",
      "GB     82.3000\n",
      "KC     81.5875\n",
      "CAR    77.4125\n",
      "DEN    60.5250\n",
      "ARI    55.9500\n",
      "Name: #QBRating, dtype: float64 #Team Abbr.\n",
      "CLE    36.8375\n",
      "STL    20.0250\n",
      "SD     34.5500\n",
      "CHI    42.7375\n",
      "SF     41.5750\n",
      "TB     42.2750\n",
      "JAX    51.8750\n",
      "NYJ    39.7125\n",
      "Name: #QBRating, dtype: float64\n"
     ]
    }
   ],
   "source": [
    "[ypAtt[\"#PassAttempts\"], ypCom[\"#PassCompletions\"], ypPct[\"#PassPct\"], ypAPG[\"#PassAttemptsPerGame\"], ypGY[\"#PassGrossYards\"], \n",
    "          ypNY[\"#PassNetYards\"], ypYPA[\"#PassYardsPerAtt\"], ypYPG[\"#PassYardsPerGame\"], ypTD[\"#PassTD\"], ypTDPct[\"#PassTDPct\"],\n",
    "          ypInt[\"#PassInt\"], ypIntPct[\"#PassIntPct\"], ypLng[\"#PassLng\"], ypAvg[\"#PassAvg\"], ypSack[\"#PassSacks\"],\n",
    "          ypSackY[\"#PassSackY\"], yp20[\"#Pass20Plus\"], yp40[\"#Pass40Plus\"], ypQBR[\"#QBRating\"],\n",
    "          yRAtt[\"#RushAttempts\"], yRAPG[\"#RushAttemptsPerGame\"], yRYds[\"#RushYards\"], yRAvg[\"#RushAverage\"], yRYPG[\"#RushYardsPerGame\"], \n",
    "          yRTD[\"#RushTD\"], yRLng[\"#RushLng\"], yR1st[\"#Rush1stDowns\"], yR1Pct[\"#Rush1stDownsPct\"], yR20[\"#Rush20Plus\"],\n",
    "          yR40[\"#Rush40Plus\"], yRFmb[\"#RushFumbles\"], ypRec[\"#Receptions\"], ypReYds[\"#RecYards\"], ypRAvg[\"#RecAverage\"],\n",
    "          ypRYPG[\"#RecYardsPerGame\"], ypRecTD[\"#RecTD\"], ypRecLng[\"#RecLng\"], ypRec1st[\"#Rec1stDowns\"], ypRec20[\"#Rec20Plus\"], \n",
    "          ypRec40[\"#Rec40Plus\"], ypRecFmb[\"#RecFumbles\"]]\n",
    "yplot_Pas = np.array(qb_list[18]/8)\n",
    "xplot_Pas = np.array([x1[\"#Wins\"]])\n",
    "yplot_Pas2 = np.array(qb_list2[18]/8)\n",
    "xplot_Pas2 = np.array([x2[\"#Wins\"]])\n",
    "plt.scatter(xplot_Pas2, \n",
    "            yplot_Pas2,\n",
    "            s=15,\n",
    "            facecolors=colors2, \n",
    "            alpha=0.8,\n",
    "            linewidth=1)\n",
    "plt.scatter(x=xplot_Pas, \n",
    "            y=yplot_Pas,\n",
    "            s=15,\n",
    "            facecolors=colors, \n",
    "            alpha=0.8,\n",
    "            linewidth=1)\n",
    "plt.grid(True)\n",
    "plt.legend(handles=handles, loc=\"upper right\")\n",
    "plt.title(\"Overall Wins vs. QBR\", fontsize=20)\n",
    "plt.ylabel(\"QBR\", fontsize=20)\n",
    "plt.xlabel(\"Wins\", fontsize=20)\n",
    "plt.ylim(0,120)\n",
    "plt.xlim(0,70)\n",
    "plt.yticks(range(0, 120, 10))\n",
    "plt.figure(figsize=(30,30), dpi=80)\n",
    "plt.savefig(\"QBR.png\")\n",
    "plt.show()\n",
    "print(qb_list[18]/8, qb_list2[18]/8)"
   ]
  },
  {
   "cell_type": "code",
   "execution_count": 454,
   "metadata": {},
   "outputs": [
    {
     "data": {
      "image/png": "[encoded data removed]",
      "text/plain": [
       "<matplotlib.figure.Figure at 0x1e86b884e48>"
      ]
     },
     "metadata": {},
     "output_type": "display_data"
    },
    {
     "data": {
      "text/plain": [
       "<matplotlib.figure.Figure at 0x1e87007a588>"
      ]
     },
     "metadata": {},
     "output_type": "display_data"
    },
    {
     "name": "stdout",
     "output_type": "stream",
     "text": [
      "#Team Abbr.\n",
      "NE      0\n",
      "PIT     6\n",
      "SEA     6\n",
      "GB      6\n",
      "KC      9\n",
      "CAR     9\n",
      "DEN    11\n",
      "ARI    10\n",
      "Name: #IntTD, dtype: int64 #Team Abbr.\n",
      "CLE     6\n",
      "STL     4\n",
      "SD      4\n",
      "CHI     4\n",
      "SF      4\n",
      "TB     10\n",
      "JAX     5\n",
      "NYJ     0\n",
      "Name: #IntTD, dtype: int64 #Team Abbr.\n",
      "NE     6\n",
      "PIT    3\n",
      "SEA    6\n",
      "GB     3\n",
      "KC     7\n",
      "CAR    4\n",
      "DEN    6\n",
      "ARI    5\n",
      "Name: #FumTD, dtype: int64 #Team Abbr.\n",
      "CLE     1\n",
      "STL     2\n",
      "SD      5\n",
      "CHI     2\n",
      "SF      1\n",
      "TB      5\n",
      "JAX    10\n",
      "NYJ     1\n",
      "Name: #FumTD, dtype: int64\n"
     ]
    }
   ],
   "source": [
    "# #First Plot, QB Stats\n",
    "# #If not enough colors, use facecolors= np.random.rand(3) in plt.scatter()\n",
    "yplot_Pas = np.array(def_list[7])\n",
    "xplot_Pas = np.array([x1[\"#Wins\"]])\n",
    "yplot_Pas2 = np.array(def_list[7])\n",
    "xplot_Pas2 = np.array([x2[\"#Wins\"]])\n",
    "plt.scatter(xplot_Pas2, \n",
    "            yplot_Pas2,\n",
    "            s=15,\n",
    "            facecolors=colors2, \n",
    "            alpha=0.8,\n",
    "            linewidth=1)\n",
    "# xplot_Pas = np.array([x1[\"#Wins\"], x1[\"#Wins\"], x1[\"#Wins\"], x1[\"#Wins\"], x1[\"#Wins\"], \n",
    "#                       x1[\"#Wins\"], x1[\"#Wins\"], x1[\"#Wins\"], x1[\"#Wins\"], x1[\"#Wins\"], \n",
    "#                       x1[\"#Wins\"], x1[\"#Wins\"], x1[\"#Wins\"], x1[\"#Wins\"], x1[\"#Wins\"], \n",
    "#                       x1[\"#Wins\"], x1[\"#Wins\"], x1[\"#Wins\"], x1[\"#Wins\"]])\n",
    "plt.scatter(x=xplot_Pas, \n",
    "            y=yplot_Pas,\n",
    "            s=15,\n",
    "            facecolors=colors, \n",
    "            alpha=0.8,\n",
    "            linewidth=1)\n",
    "yplot_Pas3 = np.array(def_list[22])\n",
    "xplot_Pas3 = np.array([x1[\"#Wins\"]])\n",
    "yplot_Pas4 = np.array(def_list[22])\n",
    "xplot_Pas4 = np.array([x2[\"#Wins\"]])\n",
    "plt.scatter(xplot_Pas3, \n",
    "            yplot_Pas3,\n",
    "            s=15,\n",
    "            facecolors=\"orange\", \n",
    "            alpha=0.8,\n",
    "            linewidth=1)\n",
    "# xplot_Pas = np.array([x1[\"#Wins\"], x1[\"#Wins\"], x1[\"#Wins\"], x1[\"#Wins\"], x1[\"#Wins\"], \n",
    "#                       x1[\"#Wins\"], x1[\"#Wins\"], x1[\"#Wins\"], x1[\"#Wins\"], x1[\"#Wins\"], \n",
    "#                       x1[\"#Wins\"], x1[\"#Wins\"], x1[\"#Wins\"], x1[\"#Wins\"], x1[\"#Wins\"], \n",
    "#                       x1[\"#Wins\"], x1[\"#Wins\"], x1[\"#Wins\"], x1[\"#Wins\"]])\n",
    "plt.scatter(x=xplot_Pas4, \n",
    "            y=yplot_Pas4,\n",
    "            s=15,\n",
    "            facecolors=\"green\", \n",
    "            alpha=0.8,\n",
    "            linewidth=1)\n",
    "plt.grid(True)\n",
    "plt.legend(handles=handles, loc=\"upper right\")\n",
    "plt.title(\"Overall Wins vs. Defensive Touchdowns\", fontsize=20)\n",
    "plt.ylabel(\"Defensive Touchdowns\", fontsize=20)\n",
    "plt.xlabel(\"Wins\", fontsize=20)\n",
    "plt.ylim(0,20)\n",
    "plt.xlim(0,100)\n",
    "plt.figure(figsize=(30,30), dpi=80)\n",
    "plt.savefig(\"DefTD.png\")\n",
    "plt.show()\n",
    "print(def_list[7], def_list2[7], def_list[22], def_list2[22])"
   ]
  },
  {
   "cell_type": "code",
   "execution_count": 452,
   "metadata": {},
   "outputs": [
    {
     "data": {
      "image/png": "[encoded data removed]",
      "text/plain": [
       "<matplotlib.figure.Figure at 0x1e86fa7ebe0>"
      ]
     },
     "metadata": {},
     "output_type": "display_data"
    },
    {
     "data": {
      "text/plain": [
       "<matplotlib.figure.Figure at 0x1e86fb0dd30>"
      ]
     },
     "metadata": {},
     "output_type": "display_data"
    },
    {
     "name": "stdout",
     "output_type": "stream",
     "text": [
      "#Team Abbr.\n",
      "NE     720.7\n",
      "PIT    551.7\n",
      "SEA    605.7\n",
      "GB     608.2\n",
      "KC     544.1\n",
      "CAR    579.0\n",
      "DEN    528.8\n",
      "ARI    433.2\n",
      "Name: #FgPct, dtype: float64 #Team Abbr.\n",
      "CLE    320.9\n",
      "STL    150.5\n",
      "SD     247.0\n",
      "CHI    310.6\n",
      "SF     353.0\n",
      "TB     302.6\n",
      "JAX    428.7\n",
      "NYJ    334.2\n",
      "Name: #FgPct, dtype: float64\n"
     ]
    }
   ],
   "source": [
    "yplot_Pas = np.array(st_list[17])\n",
    "xplot_Pas = np.array([x1[\"#Wins\"]])\n",
    "yplot_Pas2 = np.array(st_list2[17])\n",
    "xplot_Pas2 = np.array([x2[\"#Wins\"]])\n",
    "plt.scatter(xplot_Pas2, \n",
    "            yplot_Pas2,\n",
    "            s=15,\n",
    "            facecolors=colors2, \n",
    "            alpha=0.8,\n",
    "            linewidth=1)\n",
    "plt.scatter(x=xplot_Pas, \n",
    "            y=yplot_Pas,\n",
    "            s=15,\n",
    "            facecolors=colors, \n",
    "            alpha=0.8,\n",
    "            linewidth=1)\n",
    "plt.grid(True)\n",
    "plt.legend(handles=handles, loc=\"upper right\")\n",
    "plt.title(\"Overall Wins vs. FG PCT\", fontsize=20)\n",
    "plt.ylabel(\"FG PCT\", fontsize=20)\n",
    "plt.xlabel(\"Wins\", fontsize=20)\n",
    "plt.ylim(0,800)\n",
    "plt.xlim(0,70)\n",
    "plt.yticks(range(0, 800, 100))\n",
    "plt.figure(figsize=(30,30), dpi=80)\n",
    "plt.savefig(\"FG_PCt.png\")\n",
    "plt.show()\n",
    "print(st_list[17], st_list2[17])"
   ]
  },
  {
   "cell_type": "code",
   "execution_count": 451,
   "metadata": {},
   "outputs": [
    {
     "data": {
      "image/png": "[encoded data removed]",
      "text/plain": [
       "<matplotlib.figure.Figure at 0x1e86f1b5da0>"
      ]
     },
     "metadata": {},
     "output_type": "display_data"
    },
    {
     "data": {
      "text/plain": [
       "<matplotlib.figure.Figure at 0x1e86ed91b70>"
      ]
     },
     "metadata": {},
     "output_type": "display_data"
    },
    {
     "name": "stdout",
     "output_type": "stream",
     "text": [
      "#Team Abbr.\n",
      "NE     301.2\n",
      "PIT    246.6\n",
      "SEA    299.9\n",
      "GB     187.4\n",
      "KC     253.3\n",
      "CAR    244.1\n",
      "DEN    193.5\n",
      "ARI    186.7\n",
      "Name: #PuntIn20Pct, dtype: float64 #Team Abbr.\n",
      "CLE    123.8\n",
      "STL     84.5\n",
      "SD      66.5\n",
      "CHI    132.5\n",
      "SF     129.6\n",
      "TB     142.4\n",
      "JAX    186.8\n",
      "NYJ    136.8\n",
      "Name: #PuntIn20Pct, dtype: float64\n"
     ]
    }
   ],
   "source": [
    "st_list = [ystKB[\"#KB\"],ystKRRet[\"#KrRet\"],ystKRYds[\"#KrYds\"],ystKRAvg[\"#KrAvg\"], ystKRLng[\"#KrLng\"],ystKRTD[\"#KrTD\"],\n",
    "ystKR20P[\"#Kr20Plus\"],ystKR40P[\"#Kr40Plus\"],ystKRFC[\"#KrFC\"],ystKRFum[\"#KrFum\"],ystPRRet[\"#PrRet\"],\n",
    "ystPR40P[\"#Pr40Plus\"],ystPRFC[\"#PrFC\"],yPRFum[\"#PrFum\"],ystFGBlk[\"#FgBlk\"],ystFG[\"#FgMade\"],\n",
    "ystFGAtt[\"#FgAtt\"],ystFGPct[\"#FgPct\"],ystFGShort[\"#FgMade1_19\"],ystFGShortAtt[\"#FgAtt1_19\"],ystFGShortPct[\"#Fg1_19Pct\"],\n",
    "ystFG20[\"#FgMade20_29\"],ystFG20Att[\"#FgAtt20_29\"],ystFG20Pct[\"#Fg20_29Pct\"],ystFG30[\"#FgMade30_39\"],ystFG30Att[\"#FgAtt30_39\"],\n",
    "ystFG30Pct[\"#Fg30_39Pct\"],ystFG40[\"#FgMade40_49\"],ystFG40Att[\"#FgAtt40_49\"],ystFG40Pct[\"#Fg40_49Pct\"],ystFG50Pl[\"#FgMade50Plus\"],\n",
    "ystFG50PlAtt[\"#FgAtt50Plus\"],ystFG50PlPct[\"#Fg50PlusPct\"],ystFGLng[\"#FgLng\"],ystXPBlk[\"#XpBlk\"],ystXPMade[\"#XpMade\"],\n",
    "ystXPAtt[\"#XpAtt\"],ystXPPct[\"#XpPct\"],ystFGXP[\"#FgAndXpPts\"],ystKOPct[\"#KoPct\"],yKO[\"#Kickoffs\"],\n",
    "ystKOYds[\"#KoYds\"],ystKOOOB[\"#KoOOB\"],ystKOAvg[\"#KoAvg\"],ystKOTB[\"#KoTB\"],ystKOR[\"#KoRet\"],\n",
    "ystKORYds[\"#KoRetYds\"],ystKORAvgYds[\"#KoRetAvgYds\"],ystKOTD[\"#KoTD\"],ystKOOnSide[\"#KoOS\"],ystKOOnSideRec[\"#KoOSR\"],\n",
    "ystP[\"#Punts\"],ystPYds[\"#PuntYds\"],ystPNetYds[\"#PuntNetYds\"],ystPLng[\"#PuntLng\"],ystPAvg[\"#PuntAvg\"],\n",
    "ystPNetAvg[\"#PuntNetAvg\"],ystPBlk[\"#PuntBlk\"],ystPOOB[\"#PuntOOB\"],ystPDown[\"#PuntDown\"],ystP20[\"#PuntIn20\"],\n",
    "ystP20Pct[\"#PuntIn20Pct\"],ystPTB[\"#PuntTB\"],ystPTBPct[\"#PuntTBPct\"],ystPFC[\"#PuntFC\"],ystPR[\"#PuntRet\"],\n",
    "ystPRLng[\"#PrLng\"],ystPRTD[\"#PrTD\"],ystPR20P[\"#Pr20Plus\"],ystPRYds[\"#PuntRetYds\"],ystPRAvg[\"#PuntRetAvg\"]]\n",
    "yplot_Pas = np.array(st_list[61])\n",
    "xplot_Pas = np.array([x1[\"#Wins\"]])\n",
    "yplot_Pas2 = np.array(st_list2[61])\n",
    "xplot_Pas2 = np.array([x2[\"#Wins\"]])\n",
    "plt.scatter(xplot_Pas2,\n",
    "            yplot_Pas2,\n",
    "            s=15,\n",
    "            facecolors=colors2, \n",
    "            alpha=0.8,\n",
    "            linewidth=1)\n",
    "plt.scatter(x=xplot_Pas, \n",
    "            y=yplot_Pas,\n",
    "            s=15,\n",
    "            facecolors=colors, \n",
    "            alpha=0.8,\n",
    "            linewidth=1)\n",
    "plt.grid(True)\n",
    "plt.legend(handles=handles, loc=\"upper right\")\n",
    "plt.title(\"Overall Wins vs. Punts inside 20\", fontsize=20)\n",
    "plt.ylabel(\"Punts\", fontsize=20)\n",
    "plt.xlabel(\"Wins\", fontsize=20)\n",
    "plt.ylim(0,400)\n",
    "plt.xlim(0,70)\n",
    "plt.yticks(range(0, 400, 50))\n",
    "plt.figure(figsize=(30,30), dpi=80)\n",
    "plt.savefig(\"Punt_in_20.png\")\n",
    "plt.show()\n",
    "print(st_list[61], st_list2[61])"
   ]
  },
  {
   "cell_type": "markdown",
   "metadata": {},
   "source": [
    "# Defensive Plots"
   ]
  },
  {
   "cell_type": "code",
   "execution_count": 76,
   "metadata": {
    "collapsed": true
   },
   "outputs": [],
   "source": [
    "#Passing\n",
    "# \"#TackleSolo\", \"#TackleTotal\", \"#TackleAst\", \"#Sacks\", \"#SackYds\", \n",
    "# \"#TacklesForLoss\", \"#Interceptions\", \"#IntTD\", \"#IntYds\", \"#IntAverage\", \n",
    "# \"#IntLng\", \"#PassesDefended\", \"#Stuffs\", \"#Safeties\", \"#StuffYds\",\n",
    "# \"#Fumbles\", \"#FumLost\", \"#FumForced\", \"#FumOwnRec\", \"#FumOppRec\", \n",
    "# \"#FumRecYds\", \"#FumTotalRec\", \"#FumTD\"\n",
    "#_______DEF List____________\n",
    "ydTSolo = tier1[\"#TackleSolo\"]\n",
    "ydTSolo = pd.DataFrame(ydTSolo)\n",
    "ydTTot = tier1[\"#TackleTotal\"]\n",
    "ydTTot = pd.DataFrame(ydTTot)\n",
    "ydTAst = tier1[\"#TackleAst\"]\n",
    "ydTAst = pd.DataFrame(ydTAst)\n",
    "ydSck = tier1[\"#Sacks\"]\n",
    "ydSck = pd.DataFrame(ydSck)\n",
    "ydSckYds = tier1[\"#SackYds\"]\n",
    "ydSckYds = pd.DataFrame(ydSckYds)\n",
    "ydTFL = tier1[\"#TacklesForLoss\"]\n",
    "ydTFL = pd.DataFrame(ydTFL)\n",
    "ydInt = tier1[\"#Interceptions\"]\n",
    "ydInt = pd.DataFrame(ydInt)\n",
    "ydIntTD = tier1[\"#IntTD\"]\n",
    "ydIntTD = pd.DataFrame(ydIntTD)\n",
    "ydIntYds= tier1[\"#IntYds\"]\n",
    "ydIntYds = pd.DataFrame(ydIntYds)\n",
    "ydIntAvg = tier1[\"#IntAverage\"]\n",
    "ydIntAvg = pd.DataFrame(ydIntAvg)\n",
    "ydIntLng = tier1[\"#IntLng\"]\n",
    "ydIntLng = pd.DataFrame(ydIntLng)\n",
    "ydPassDef = tier1[\"#PassesDefended\"]\n",
    "ydPassDef = pd.DataFrame(ydPassDef)\n",
    "ydStuff = tier1[\"#Stuffs\"]\n",
    "ydStuff = pd.DataFrame(ydStuff)\n",
    "ydSfty = tier1[\"#Safeties\"]\n",
    "ydSfty = pd.DataFrame(ydSfty)\n",
    "ydStuffYds = tier1[\"#StuffYds\"]\n",
    "ydStuffYds = pd.DataFrame(ydStuffYds)\n",
    "ydFmb = tier1[\"#Fumbles\"]\n",
    "ydFmb = pd.DataFrame(ydFmb)\n",
    "ydFmbLst = tier1[\"#FumLost\"]\n",
    "ydFmbLst = pd.DataFrame(ydFmbLst)\n",
    "ydFmbFrc = tier1[\"#FumForced\"]\n",
    "ydFmbFrc = pd.DataFrame(ydFmbFrc)\n",
    "ydFmbRec = tier1[\"#FumOwnRec\"]\n",
    "ydFmbRec = pd.DataFrame(ydFmbRec)\n",
    "ydFmbOppRec = tier1[\"#FumOppRec\"]\n",
    "ydFmbOppRec = pd.DataFrame(ydFmbOppRec)\n",
    "ydFmbRecYds = tier1[\"#FumRecYds\"]\n",
    "ydFmbRecYds = pd.DataFrame(ydFmbRecYds)\n",
    "ydFmbTotRec = tier1[\"#FumTotalRec\"]\n",
    "ydFmbTotRec = pd.DataFrame(ydFmbTotRec)\n",
    "ydFmbTD = tier1[\"#FumTD\"]\n",
    "ydFmbTD = pd.DataFrame(ydFmbTD)\n",
    "\n",
    "#_______End DEF List____________"
   ]
  },
  {
   "cell_type": "code",
   "execution_count": 77,
   "metadata": {
    "collapsed": true
   },
   "outputs": [],
   "source": [
    "#Passing\n",
    "# \"#TackleSolo\", \"#TackleTotal\", \"#TackleAst\", \"#Sacks\", \"#Sackyd2s\", \n",
    "# \"#TacklesForLoss\", \"#Interceptions\", \"#IntTD\", \"#Intyd2s\", \"#IntAverage\", \n",
    "# \"#IntLng\", \"#PassesDefended\", \"#Stuffs\", \"#Safeties\", \"#Stuffyd2s\",\n",
    "# \"#Fumbles\", \"#FumLost\", \"#FumForced\", \"#FumOwnRec\", \"#FumOppRec\", \n",
    "# \"#FumRecyd2s\", \"#FumTotalRec\", \"#FumTD\"\n",
    "#_______DEF List____________\n",
    "yd2TSolo = tier2[\"#TackleSolo\"]\n",
    "yd2TSolo = pd.DataFrame(yd2TSolo)\n",
    "yd2TTot = tier2[\"#TackleTotal\"]\n",
    "yd2TTot = pd.DataFrame(yd2TTot)\n",
    "yd2TAst = tier2[\"#TackleAst\"]\n",
    "yd2TAst = pd.DataFrame(yd2TAst)\n",
    "yd2Sck = tier2[\"#Sacks\"]\n",
    "yd2Sck = pd.DataFrame(yd2Sck)\n",
    "yd2SckYds = tier2[\"#SackYds\"]\n",
    "yd2SckYds = pd.DataFrame(yd2SckYds)\n",
    "yd2TFL = tier2[\"#TacklesForLoss\"]\n",
    "yd2TFL = pd.DataFrame(yd2TFL)\n",
    "yd2Int = tier2[\"#Interceptions\"]\n",
    "yd2Int = pd.DataFrame(yd2Int)\n",
    "yd2IntTD = tier2[\"#IntTD\"]\n",
    "yd2IntTD = pd.DataFrame(yd2IntTD)\n",
    "yd2IntYds= tier2[\"#IntYds\"]\n",
    "yd2IntYds = pd.DataFrame(yd2IntYds)\n",
    "yd2IntAvg = tier2[\"#IntAverage\"]\n",
    "yd2IntAvg = pd.DataFrame(yd2IntAvg)\n",
    "yd2IntLng = tier2[\"#IntLng\"]\n",
    "yd2IntLng = pd.DataFrame(yd2IntLng)\n",
    "yd2PassDef = tier2[\"#PassesDefended\"]\n",
    "yd2PassDef = pd.DataFrame(yd2PassDef)\n",
    "yd2Stuff = tier2[\"#Stuffs\"]\n",
    "yd2Stuff = pd.DataFrame(yd2Stuff)\n",
    "yd2Sfty = tier2[\"#Safeties\"]\n",
    "yd2Sfty = pd.DataFrame(yd2Sfty)\n",
    "yd2StuffYds = tier2[\"#StuffYds\"]\n",
    "yd2StuffYds = pd.DataFrame(yd2StuffYds)\n",
    "yd2Fmb = tier2[\"#Fumbles\"]\n",
    "yd2Fmb = pd.DataFrame(yd2Fmb)\n",
    "yd2FmbLst = tier2[\"#FumLost\"]\n",
    "yd2FmbLst = pd.DataFrame(yd2FmbLst)\n",
    "yd2FmbFrc = tier2[\"#FumForced\"]\n",
    "yd2FmbFrc = pd.DataFrame(yd2FmbFrc)\n",
    "yd2FmbRec = tier2[\"#FumOwnRec\"]\n",
    "yd2FmbRec = pd.DataFrame(yd2FmbRec)\n",
    "yd2FmbOppRec = tier2[\"#FumOppRec\"]\n",
    "yd2FmbOppRec = pd.DataFrame(yd2FmbOppRec)\n",
    "yd2FmbRecYds = tier2[\"#FumRecYds\"]\n",
    "yd2FmbRecYds = pd.DataFrame(yd2FmbRecYds)\n",
    "yd2FmbTotRec = tier2[\"#FumTotalRec\"]\n",
    "yd2FmbTotRec = pd.DataFrame(yd2FmbTotRec)\n",
    "yd2FmbTD = tier2[\"#FumTD\"]\n",
    "yd2FmbTD = pd.DataFrame(yd2FmbTD)\n",
    "\n",
    "#_______End DEF List____________"
   ]
  },
  {
   "cell_type": "code",
   "execution_count": 78,
   "metadata": {
    "collapsed": true
   },
   "outputs": [],
   "source": [
    "def_list = [ydTSolo[\"#TackleSolo\"],ydTTot[\"#TackleTotal\"],ydTAst[\"#TackleAst\"],ydSck[\"#Sacks\"],ydSckYds[\"#SackYds\"],\n",
    "            ydTFL[\"#TacklesForLoss\"],ydInt[\"#Interceptions\"],ydIntTD[\"#IntTD\"], ydIntYds[\"#IntYds\"],ydIntAvg[\"#IntAverage\"],\n",
    "            ydIntLng[\"#IntLng\"],ydPassDef[\"#PassesDefended\"], ydStuff[\"#Stuffs\"],ydSfty[\"#Safeties\"],ydStuffYds[\"#StuffYds\"],\n",
    "            ydFmb[\"#Fumbles\"], ydFmbLst[\"#FumLost\"],ydFmbFrc[\"#FumForced\"],ydFmbRec[\"#FumOwnRec\"],ydFmbOppRec[\"#FumOppRec\"],\n",
    "            ydFmbRecYds[\"#FumRecYds\"],ydFmbTotRec[\"#FumTotalRec\"],ydFmbTD[\"#FumTD\"]]"
   ]
  },
  {
   "cell_type": "code",
   "execution_count": 79,
   "metadata": {
    "collapsed": true
   },
   "outputs": [],
   "source": [
    "def_list2 = [yd2TSolo[\"#TackleSolo\"],yd2TTot[\"#TackleTotal\"],yd2TAst[\"#TackleAst\"],yd2Sck[\"#Sacks\"],yd2SckYds[\"#SackYds\"],\n",
    "            yd2TFL[\"#TacklesForLoss\"],yd2Int[\"#Interceptions\"],yd2IntTD[\"#IntTD\"], yd2IntYds[\"#IntYds\"],yd2IntAvg[\"#IntAverage\"],\n",
    "            yd2IntLng[\"#IntLng\"],yd2PassDef[\"#PassesDefended\"], yd2Stuff[\"#Stuffs\"],yd2Sfty[\"#Safeties\"],yd2StuffYds[\"#StuffYds\"],\n",
    "            yd2Fmb[\"#Fumbles\"], yd2FmbLst[\"#FumLost\"],yd2FmbFrc[\"#FumForced\"],yd2FmbRec[\"#FumOwnRec\"],yd2FmbOppRec[\"#FumOppRec\"],\n",
    "            yd2FmbRecYds[\"#FumRecYds\"],yd2FmbTotRec[\"#FumTotalRec\"],yd2FmbTD[\"#FumTD\"]]"
   ]
  },
  {
   "cell_type": "code",
   "execution_count": 80,
   "metadata": {
    "collapsed": true
   },
   "outputs": [],
   "source": [
    "rushDef_list = [ydTSolo[\"#TackleSolo\"],ydTTot[\"#TackleTotal\"],ydTAst[\"#TackleAst\"],ydTFL[\"#TacklesForLoss\"], ydStuff[\"#Stuffs\"],\n",
    "                ydSfty[\"#Safeties\"],ydStuffYds[\"#StuffYds\"],ydFmb[\"#Fumbles\"], ydFmbLst[\"#FumLost\"],ydFmbFrc[\"#FumForced\"],\n",
    "                ydFmbRec[\"#FumOwnRec\"],ydFmbOppRec[\"#FumOppRec\"], ydFmbRecYds[\"#FumRecYds\"],ydFmbTotRec[\"#FumTotalRec\"],ydFmbTD[\"#FumTD\"]]"
   ]
  },
  {
   "cell_type": "code",
   "execution_count": 81,
   "metadata": {
    "collapsed": true
   },
   "outputs": [],
   "source": [
    "rushDef_list2 = [yd2TSolo[\"#TackleSolo\"],yd2TTot[\"#TackleTotal\"],yd2TAst[\"#TackleAst\"],yd2TFL[\"#TacklesForLoss\"], yd2Stuff[\"#Stuffs\"],\n",
    "                yd2Sfty[\"#Safeties\"],yd2StuffYds[\"#StuffYds\"],yd2Fmb[\"#Fumbles\"], yd2FmbLst[\"#FumLost\"],yd2FmbFrc[\"#FumForced\"],\n",
    "                yd2FmbRec[\"#FumOwnRec\"],yd2FmbOppRec[\"#FumOppRec\"], yd2FmbRecYds[\"#FumRecYds\"],yd2FmbTotRec[\"#FumTotalRec\"],yd2FmbTD[\"#FumTD\"]]"
   ]
  },
  {
   "cell_type": "code",
   "execution_count": 82,
   "metadata": {
    "collapsed": true
   },
   "outputs": [],
   "source": [
    "passDef_list = [ydTSolo[\"#TackleSolo\"],ydTTot[\"#TackleTotal\"],ydTAst[\"#TackleAst\"],ydSck[\"#Sacks\"], ydSckYds[\"#SackYds\"],\n",
    "                ydInt[\"#Interceptions\"],ydIntTD[\"#IntTD\"], ydIntYds[\"#IntYds\"],ydIntAvg[\"#IntAverage\"],ydIntLng[\"#IntLng\"],\n",
    "                ydPassDef[\"#PassesDefended\"], ydSfty[\"#Safeties\"],ydFmb[\"#Fumbles\"], ydFmbLst[\"#FumLost\"],ydFmbFrc[\"#FumForced\"],\n",
    "                ydFmbRec[\"#FumOwnRec\"],ydFmbOppRec[\"#FumOppRec\"], ydFmbRecYds[\"#FumRecYds\"],ydFmbTotRec[\"#FumTotalRec\"],ydFmbTD[\"#FumTD\"]]"
   ]
  },
  {
   "cell_type": "code",
   "execution_count": 83,
   "metadata": {
    "collapsed": true
   },
   "outputs": [],
   "source": [
    "passDef_list2 = [yd2TSolo[\"#TackleSolo\"],yd2TTot[\"#TackleTotal\"],yd2TAst[\"#TackleAst\"],yd2Sck[\"#Sacks\"], yd2SckYds[\"#SackYds\"],\n",
    "                yd2Int[\"#Interceptions\"],yd2IntTD[\"#IntTD\"], yd2IntYds[\"#IntYds\"],yd2IntAvg[\"#IntAverage\"],yd2IntLng[\"#IntLng\"],\n",
    "                yd2PassDef[\"#PassesDefended\"], yd2Sfty[\"#Safeties\"],yd2Fmb[\"#Fumbles\"], yd2FmbLst[\"#FumLost\"],yd2FmbFrc[\"#FumForced\"],\n",
    "                yd2FmbRec[\"#FumOwnRec\"],yd2FmbOppRec[\"#FumOppRec\"], yd2FmbRecYds[\"#FumRecYds\"],yd2FmbTotRec[\"#FumTotalRec\"],yd2FmbTD[\"#FumTD\"]]"
   ]
  },
  {
   "cell_type": "code",
   "execution_count": 308,
   "metadata": {},
   "outputs": [
    {
     "data": {
      "image/png": "[encoded data removed]",
      "text/plain": [
       "<matplotlib.figure.Figure at 0x1e86fb2f7f0>"
      ]
     },
     "metadata": {},
     "output_type": "display_data"
    },
    {
     "data": {
      "text/plain": [
       "<matplotlib.figure.Figure at 0x1e86ff31ba8>"
      ]
     },
     "metadata": {},
     "output_type": "display_data"
    },
    {
     "name": "stdout",
     "output_type": "stream",
     "text": [
      "#Team Abbr.\n",
      "NE     1249\n",
      "PIT    1261\n",
      "SEA    1162\n",
      "GB     1325\n",
      "KC      873\n",
      "CAR    1457\n",
      "DEN    1223\n",
      "ARI    1349\n",
      "Name: #SackYds, dtype: int64 #Team Abbr.\n",
      "CLE     804\n",
      "STL     526\n",
      "SD      702\n",
      "CHI     847\n",
      "SF      775\n",
      "TB      844\n",
      "JAX    1147\n",
      "NYJ     936\n",
      "Name: #SackYds, dtype: int64\n"
     ]
    }
   ],
   "source": [
    "#First Plot, overall Def Stats\n",
    "#If not enough colors, use facecolors= np.random.rand(3) in plt.scatter()\n",
    "yplot_Def = np.array([def_list[4]])\n",
    "xplot_Def = np.array([x1[\"#Wins\"]])\n",
    "plt.scatter(x=xplot_Def, \n",
    "            y=yplot_Def,\n",
    "            s=15,\n",
    "            facecolors=colors, \n",
    "            alpha=0.8,\n",
    "            linewidth=1)\n",
    "yplot_Def2 = np.array([def_list2[4]])\n",
    "xplot_Def2 = np.array([x2[\"#Wins\"]])\n",
    "plt.scatter(x=xplot_Def2, \n",
    "            y=yplot_Def2,\n",
    "            s=15,\n",
    "            facecolors=colors2, \n",
    "            alpha=0.8,\n",
    "            linewidth=1)\n",
    "#Labels and dimensions for plot\n",
    "plt.grid(True)\n",
    "plt.legend(handles=handles, loc=\"best\")\n",
    "plt.title(\"Overall Wins vs Defensive Stats\", fontsize=20)\n",
    "plt.ylabel(\"Wins\", fontsize=20)\n",
    "plt.ylim(0,1500)\n",
    "plt.xlabel(\"Total Defense Stats\", fontsize=20)\n",
    "plt.xlim(0,70)\n",
    "plt.figure(figsize=(10,10), dpi=80)\n",
    "plt.show()\n",
    "print(def_list[4],def_list2[4])"
   ]
  },
  {
   "cell_type": "code",
   "execution_count": 354,
   "metadata": {},
   "outputs": [
    {
     "data": {
      "image/png": "[encoded data removed]",
      "text/plain": [
       "<matplotlib.figure.Figure at 0x1e86fe92860>"
      ]
     },
     "metadata": {},
     "output_type": "display_data"
    },
    {
     "data": {
      "text/plain": [
       "<matplotlib.figure.Figure at 0x1e86fa7eef0>"
      ]
     },
     "metadata": {},
     "output_type": "display_data"
    },
    {
     "name": "stdout",
     "output_type": "stream",
     "text": [
      "#Team Abbr.\n",
      "NE      0\n",
      "PIT     6\n",
      "SEA     6\n",
      "GB      6\n",
      "KC      9\n",
      "CAR     9\n",
      "DEN    11\n",
      "ARI    10\n",
      "Name: #IntTD, dtype: int64 #Team Abbr.\n",
      "NE     6\n",
      "PIT    3\n",
      "SEA    6\n",
      "GB     3\n",
      "KC     7\n",
      "CAR    4\n",
      "DEN    6\n",
      "ARI    5\n",
      "Name: #FumTD, dtype: int64 #Team Abbr.\n",
      "CLE     6\n",
      "STL     4\n",
      "SD      4\n",
      "CHI     4\n",
      "SF      4\n",
      "TB     10\n",
      "JAX     5\n",
      "NYJ     0\n",
      "Name: #IntTD, dtype: int64 #Team Abbr.\n",
      "CLE     1\n",
      "STL     2\n",
      "SD      5\n",
      "CHI     2\n",
      "SF      1\n",
      "TB      5\n",
      "JAX    10\n",
      "NYJ     1\n",
      "Name: #FumTD, dtype: int64\n"
     ]
    }
   ],
   "source": [
    "#First Plot, overall Def Stats\n",
    "#If not enough colors, use facecolors= np.random.rand(3) in plt.scatter()\n",
    "yplot_Def = np.array([def_list[22]])\n",
    "xplot_Def = np.array([x1[\"#Wins\"]])\n",
    "plt.scatter(x=xplot_Def, \n",
    "            y=yplot_Def,\n",
    "            s=15,\n",
    "            facecolors=colors, \n",
    "            alpha=0.8,\n",
    "            linewidth=1)\n",
    "yplot_Def2 = np.array([def_list2[22]])\n",
    "xplot_Def2 = np.array([x2[\"#Wins\"]])\n",
    "plt.scatter(x=xplot_Def2, \n",
    "            y=yplot_Def2,\n",
    "            s=15,\n",
    "            facecolors=colors2, \n",
    "            alpha=0.8,\n",
    "            linewidth=1)\n",
    "yplot_Def3 = np.array([def_list[7]])\n",
    "xplot_Def3 = np.array([x1[\"#Wins\"]])\n",
    "plt.scatter(x=xplot_Def3, \n",
    "            y=yplot_Def3,\n",
    "            s=15,\n",
    "            facecolors=\"orange\", \n",
    "            alpha=0.8,\n",
    "            linewidth=1)\n",
    "yplot_Def4 = np.array([def_list2[7]])\n",
    "xplot_Def4 = np.array([x2[\"#Wins\"]])\n",
    "plt.scatter(x=xplot_Def4, \n",
    "            y=yplot_Def4,\n",
    "            s=15,\n",
    "            facecolors=\"green\", \n",
    "            alpha=0.8,\n",
    "            linewidth=1)\n",
    "#Labels and dimensions for plot\n",
    "plt.grid(True)\n",
    "plt.legend(handles=handles, loc=\"best\")\n",
    "plt.title(\"Overall Wins vs Defensive Stats\", fontsize=20)\n",
    "plt.ylabel(\"Wins\", fontsize=20)\n",
    "plt.ylim(0,100)\n",
    "plt.xlabel(\"Total Defense Stats\", fontsize=20)\n",
    "plt.xlim(0,70)\n",
    "plt.figure(figsize=(10,10), dpi=80)\n",
    "plt.show()\n",
    "print(def_list[7],def_list[22],def_list2[7],def_list2[22])\n",
    "# [ydTSolo[\"#TackleSolo\"],ydTTot[\"#TackleTotal\"],ydTAst[\"#TackleAst\"],ydSck[\"#Sacks\"],ydSckYds[\"#SackYds\"],\n",
    "#             ydTFL[\"#TacklesForLoss\"],ydInt[\"#Interceptions\"],ydIntTD[\"#IntTD\"], ydIntYds[\"#IntYds\"],ydIntAvg[\"#IntAverage\"],\n",
    "#             ydIntLng[\"#IntLng\"],ydPassDef[\"#PassesDefended\"], ydStuff[\"#Stuffs\"],ydSfty[\"#Safeties\"],ydStuffYds[\"#StuffYds\"],\n",
    "#             ydFmb[\"#Fumbles\"], ydFmbLst[\"#FumLost\"],ydFmbFrc[\"#FumForced\"],ydFmbRec[\"#FumOwnRec\"],ydFmbOppRec[\"#FumOppRec\"],\n",
    "#             ydFmbRecYds[\"#FumRecYds\"],ydFmbTotRec[\"#FumTotalRec\"],ydFmbTD[\"#FumTD\"]]"
   ]
  },
  {
   "cell_type": "code",
   "execution_count": 86,
   "metadata": {},
   "outputs": [
    {
     "data": {
      "image/png": "[encoded data removed]",
      "text/plain": [
       "<matplotlib.figure.Figure at 0x1e86eaddf60>"
      ]
     },
     "metadata": {},
     "output_type": "display_data"
    },
    {
     "data": {
      "text/plain": [
       "<matplotlib.figure.Figure at 0x1e86f397b70>"
      ]
     },
     "metadata": {},
     "output_type": "display_data"
    }
   ],
   "source": [
    "yplot_Def = np.array([passDef_list])\n",
    "\n",
    "xplot_Def = np.array([x1[\"#Wins\"]])\n",
    "\n",
    "plt.scatter(x=xplot_Def, \n",
    "            y=yplot_Def,\n",
    "            s=15,\n",
    "            facecolors=colors, \n",
    "            alpha=0.8,\n",
    "            linewidth=1)\n",
    "plt.grid(True)\n",
    "plt.legend(handles= handles)\n",
    "plt.title(\"Overall Wins vs Pass Defense\", fontsize=20)\n",
    "plt.ylabel(\"Wins\", fontsize=20)\n",
    "plt.ylim(0,3700)\n",
    "plt.xlabel(\"Pass Defense Stats\", fontsize=20)\n",
    "plt.xlim(30,70)\n",
    "plt.figure(figsize=(10,10), dpi=80)\n",
    "plt.show()"
   ]
  },
  {
   "cell_type": "markdown",
   "metadata": {},
   "source": [
    "# Special Teams Plots"
   ]
  },
  {
   "cell_type": "code",
   "execution_count": 91,
   "metadata": {
    "collapsed": true
   },
   "outputs": [],
   "source": [
    "#Special Teams 1\n",
    "ystKB = tier1[\"#KB\"]\n",
    "ystKB = pd.DataFrame(ystKB)\n",
    "ystKRRet = tier1[\"#KrRet\"]\n",
    "ystKRRet = pd.DataFrame(ystKRRet)\n",
    "ystKRYds = tier1[\"#KrYds\"]\n",
    "ystKRYds = pd.DataFrame(ystKRYds)\n",
    "ystKRAvg = tier1[\"#KrAvg\"]\n",
    "ystKRAvg = pd.DataFrame(ystKRAvg)\n",
    "ystKRLng = tier1[\"#KrLng\"]\n",
    "ystKRLng = pd.DataFrame(ystKRLng)\n",
    "ystKRTD = tier1[\"#KrTD\"]\n",
    "ystKRTD = pd.DataFrame(ystKRTD)\n",
    "ystKR20P = tier1[\"#Kr20Plus\"]\n",
    "ystKR20P = pd.DataFrame(ystKR20P)\n",
    "ystKR40P = tier1[\"#Kr40Plus\"]\n",
    "ystKR40P = pd.DataFrame(ystKR40P)\n",
    "ystKRFC= tier1[\"#KrFC\"]\n",
    "ystKRFC = pd.DataFrame(ystKRFC)\n",
    "ystKRFum = tier1[\"#KrFum\"]\n",
    "ystKRFum = pd.DataFrame(ystKRFum)\n",
    "ystPRRet = tier1[\"#PrRet\"]\n",
    "ystPRRet = pd.DataFrame(ystPRRet)\n",
    "ystPRYds = tier1[\"#PrYds\"]\n",
    "ystPRYds = pd.DataFrame(ystPRYds)\n",
    "ystPRAvg = tier1[\"#PrAvg\"]\n",
    "ystPRAvg = pd.DataFrame(ystPRAvg)\n",
    "ystPRLng = tier1[\"#PrLng\"]\n",
    "ystPRLng = pd.DataFrame(ystPRLng)\n",
    "ystPRTD = tier1[\"#PrTD\"]\n",
    "ystPRTD = pd.DataFrame(ystPRTD)\n",
    "ystPR20P = tier1[\"#Pr20Plus\"]\n",
    "ystPR20P = pd.DataFrame(ystPR20P)\n",
    "ystPR40P = tier1[\"#Pr40Plus\"]\n",
    "ystPR40P = pd.DataFrame(ystPR40P)\n",
    "ystPRFC = tier1[\"#PrFC\"]\n",
    "ystPRFC = pd.DataFrame(ystPRFC)\n",
    "yPRFum = tier1[\"#PrFum\"]\n",
    "yPRFum = pd.DataFrame(yPRFum)\n",
    "ystFGBlk = tier1[\"#FgBlk\"]\n",
    "ystFGBlk = pd.DataFrame(ystFGBlk)\n",
    "ystFG = tier1[\"#FgMade\"]\n",
    "ystFG = pd.DataFrame(ystFG)\n",
    "ystFGAtt = tier1[\"#FgAtt\"]\n",
    "ystFGAtt = pd.DataFrame(ystFGAtt)\n",
    "ystFGPct = tier1[\"#FgPct\"]\n",
    "ystFGPct = pd.DataFrame(ystFGPct)\n",
    "ystFGShort = tier1[\"#FgMade1_19\"]\n",
    "ystFGShort = pd.DataFrame(ystFGShort)\n",
    "ystFGShortAtt = tier1[\"#FgAtt1_19\"]\n",
    "ystFGShortAtt = pd.DataFrame(ystFGShortAtt)\n",
    "ystFGShortPct = tier1[\"#Fg1_19Pct\"]\n",
    "ystFGShortPct = pd.DataFrame(ystFGShortPct)\n",
    "ystFG20 = tier1[\"#FgMade20_29\"]\n",
    "ystFG20 = pd.DataFrame(ystFG20)\n",
    "ystFG20Att = tier1[\"#FgAtt20_29\"]\n",
    "ystFG20Att = pd.DataFrame(ystFG20Att)\n",
    "ystFG20Pct = tier1[\"#Fg20_29Pct\"]\n",
    "ystFG20Pct = pd.DataFrame(ystFG20Pct)\n",
    "ystFG30 = tier1[\"#FgMade30_39\"]\n",
    "ystFG30 = pd.DataFrame(ystFG30)\n",
    "ystFG30Att = tier1[\"#FgAtt30_39\"]\n",
    "ystFG30Att = pd.DataFrame(ystFG30Att)\n",
    "ystFG30Pct = tier1[\"#Fg30_39Pct\"]\n",
    "ystFG30Pct = pd.DataFrame(ystFG30Pct)\n",
    "ystFG40 = tier1[\"#FgMade40_49\"]\n",
    "ystFG40 = pd.DataFrame(ystFG40)\n",
    "ystFG40Att = tier1[\"#FgAtt40_49\"]\n",
    "ystFG40Att = pd.DataFrame(ystFG40Att)\n",
    "ystFG40Pct = tier1[\"#Fg40_49Pct\"]\n",
    "ystFG40Pct = pd.DataFrame(ystFG40Pct)\n",
    "ystFG50Pl = tier1[\"#FgMade50Plus\"]\n",
    "ystFG50Pl = pd.DataFrame(ystFG50Pl)\n",
    "ystFG50PlAtt = tier1[\"#FgAtt50Plus\"]\n",
    "ystFG50PlAtt = pd.DataFrame(ystFG50PlAtt)\n",
    "ystFG50PlPct = tier1[\"#Fg50PlusPct\"]\n",
    "ystFG50PlPct = pd.DataFrame(ystFG50PlPct)\n",
    "ystFGLng = tier1[\"#FgLng\"]\n",
    "ystFGLng = pd.DataFrame(ystFGLng)\n",
    "ystXPBlk = tier1[\"#XpBlk\"]\n",
    "ystXPBlk = pd.DataFrame(ystXPBlk)\n",
    "ystXPMade = tier1[\"#XpMade\"]\n",
    "ystXPMade = pd.DataFrame(ystXPMade)\n",
    "ystXPAtt = tier1[\"#XpAtt\"]\n",
    "ystXPAtt = pd.DataFrame(ystXPAtt)\n",
    "ystXPPct = tier1[\"#XpPct\"]\n",
    "ystXPPct = pd.DataFrame(ystXPPct)\n",
    "ystFGXP = tier1[\"#FgAndXpPts\"]\n",
    "ystFGXP = pd.DataFrame(ystFGXP)\n",
    "ystKOPct = tier1[\"#KoPct\"]\n",
    "ystKOPct = pd.DataFrame(ystKOPct)\n",
    "yKO = tier1[\"#Kickoffs\"]\n",
    "yKO = pd.DataFrame(yKO)\n",
    "ystKOYds = tier1[\"#KoYds\"]\n",
    "ystKOYds = pd.DataFrame(ystKOYds)\n",
    "ystKOOOB = tier1[\"#KoOOB\"]\n",
    "ystKOOOB = pd.DataFrame(ystKOOOB)\n",
    "ystKOAvg = tier1[\"#KoAvg\"]\n",
    "ystKOAvg = pd.DataFrame(ystKOAvg)\n",
    "ystKOTB = tier1[\"#KoTB\"]\n",
    "ystKOTB = pd.DataFrame(ystKOTB)\n",
    "ystKOR = tier1[\"#KoRet\"]\n",
    "ystKOR = pd.DataFrame(ystKOR)\n",
    "ystKORYds = tier1[\"#KoRetYds\"]\n",
    "ystKORYds = pd.DataFrame(ystKORYds)\n",
    "ystKORAvgYds = tier1[\"#KoRetAvgYds\"]\n",
    "ystKORAvgYds = pd.DataFrame(ystKORAvgYds)\n",
    "ystKOTD = tier1[\"#KoTD\"]\n",
    "ystKOTD = pd.DataFrame(ystKOTD)\n",
    "ystKOOnSide = tier1[\"#KoOS\"]\n",
    "ystKOOnSide = pd.DataFrame(ystKOOnSide)\n",
    "ystKOOnSideRec = tier1[\"#KoOSR\"]\n",
    "ystKOOnSideRec = pd.DataFrame(ystKOOnSideRec)\n",
    "ystP = tier1[\"#Punts\"]\n",
    "ystP = pd.DataFrame(ystP)\n",
    "ystPYds = tier1[\"#PuntYds\"]\n",
    "ystPYds = pd.DataFrame(ystPYds)\n",
    "ystPNetYds = tier1[\"#PuntNetYds\"]\n",
    "ystPNetYds = pd.DataFrame(ystPNetYds)\n",
    "ystPLng = tier1[\"#PuntLng\"]\n",
    "ystPLng = pd.DataFrame(ystPLng)\n",
    "ystPAvg = tier1[\"#PuntAvg\"]\n",
    "ystPAvg = pd.DataFrame(ystPAvg)\n",
    "ystPNetAvg = tier1[\"#PuntNetAvg\"]\n",
    "ystPNetAvg = pd.DataFrame(ystPNetAvg)\n",
    "ystPBlk = tier1[\"#PuntBlk\"]\n",
    "ystPBlk = pd.DataFrame(ystPBlk)\n",
    "ystPOOB = tier1[\"#PuntOOB\"]\n",
    "ystPOOB = pd.DataFrame(ystPOOB)\n",
    "ystPDown = tier1[\"#PuntDown\"]\n",
    "ystPDown = pd.DataFrame(ystPDown)\n",
    "ystP20 = tier1[\"#PuntIn20\"]\n",
    "ystP20 = pd.DataFrame(ystP20)\n",
    "ystP20Pct = tier1[\"#PuntIn20Pct\"]\n",
    "ystP20Pct = pd.DataFrame(ystP20Pct)\n",
    "ystPTB = tier1[\"#PuntTB\"]\n",
    "ystPTB = pd.DataFrame(ystPTB)\n",
    "ystPTBPct = tier1[\"#PuntTBPct\"]\n",
    "ystPTBPct = pd.DataFrame(ystPTBPct)\n",
    "ystPFC = tier1[\"#PuntFC\"]\n",
    "ystPFC = pd.DataFrame(ystPFC)\n",
    "ystPR = tier1[\"#PuntRet\"]\n",
    "ystPR = pd.DataFrame(ystPR)\n",
    "ystPRYds = tier1[\"#PuntRetYds\"]\n",
    "ystPRYds = pd.DataFrame(ystPRYds)\n",
    "ystPRAvg = tier1[\"#PuntRetAvg\"]\n",
    "ystPRAvg = pd.DataFrame(ystPRAvg)"
   ]
  },
  {
   "cell_type": "code",
   "execution_count": 92,
   "metadata": {
    "collapsed": true
   },
   "outputs": [],
   "source": [
    "#Tier2 Special Teams\n",
    "\n",
    "yst2KB = tier2[\"#KB\"]\n",
    "yst2KB = pd.DataFrame(yst2KB)\n",
    "yst2KRRet = tier2[\"#KrRet\"]\n",
    "yst2KRRet = pd.DataFrame(yst2KRRet)\n",
    "yst2KRYds = tier2[\"#KrYds\"]\n",
    "yst2KRYds = pd.DataFrame(yst2KRYds)\n",
    "yst2KRAvg = tier2[\"#KrAvg\"]\n",
    "yst2KRAvg = pd.DataFrame(yst2KRAvg)\n",
    "yst2KRLng = tier2[\"#KrLng\"]\n",
    "yst2KRLng = pd.DataFrame(yst2KRLng)\n",
    "yst2KRTD = tier2[\"#KrTD\"]\n",
    "yst2KRTD = pd.DataFrame(yst2KRTD)\n",
    "yst2KR20P = tier2[\"#Kr20Plus\"]\n",
    "yst2KR20P = pd.DataFrame(yst2KR20P)\n",
    "yst2KR40P = tier2[\"#Kr40Plus\"]\n",
    "yst2KR40P = pd.DataFrame(yst2KR40P)\n",
    "yst2KRFC= tier2[\"#KrFC\"]\n",
    "yst2KRFC = pd.DataFrame(yst2KRFC)\n",
    "yst2KRFum = tier2[\"#KrFum\"]\n",
    "yst2KRFum = pd.DataFrame(yst2KRFum)\n",
    "yst2PRRet = tier2[\"#PrRet\"]\n",
    "yst2PRRet = pd.DataFrame(yst2PRRet)\n",
    "yst2PRYds = tier2[\"#PrYds\"]\n",
    "yst2PRYds = pd.DataFrame(yst2PRYds)\n",
    "yst2PRAvg = tier2[\"#PrAvg\"]\n",
    "yst2PRAvg = pd.DataFrame(yst2PRAvg)\n",
    "yst2PRLng = tier2[\"#PrLng\"]\n",
    "yst2PRLng = pd.DataFrame(yst2PRLng)\n",
    "yst2PRTD = tier2[\"#PrTD\"]\n",
    "yst2PRTD = pd.DataFrame(yst2PRTD)\n",
    "yst2PR20P = tier2[\"#Pr20Plus\"]\n",
    "yst2PR20P = pd.DataFrame(yst2PR20P)\n",
    "yst2PR40P = tier2[\"#Pr40Plus\"]\n",
    "yst2PR40P = pd.DataFrame(yst2PR40P)\n",
    "yst2PRFC = tier2[\"#PrFC\"]\n",
    "yst2PRFC = pd.DataFrame(yst2PRFC)\n",
    "yPRFum = tier2[\"#PrFum\"]\n",
    "yPRFum = pd.DataFrame(yPRFum)\n",
    "yst2FGBlk = tier2[\"#FgBlk\"]\n",
    "yst2FGBlk = pd.DataFrame(yst2FGBlk)\n",
    "yst2FG = tier2[\"#FgMade\"]\n",
    "yst2FG = pd.DataFrame(yst2FG)\n",
    "yst2FGAtt = tier2[\"#FgAtt\"]\n",
    "yst2FGAtt = pd.DataFrame(yst2FGAtt)\n",
    "yst2FGPct = tier2[\"#FgPct\"]\n",
    "yst2FGPct = pd.DataFrame(yst2FGPct)\n",
    "yst2FGShort = tier2[\"#FgMade1_19\"]\n",
    "yst2FGShort = pd.DataFrame(yst2FGShort)\n",
    "yst2FGShortAtt = tier2[\"#FgAtt1_19\"]\n",
    "yst2FGShortAtt = pd.DataFrame(yst2FGShortAtt)\n",
    "yst2FGShortPct = tier2[\"#Fg1_19Pct\"]\n",
    "yst2FGShortPct = pd.DataFrame(yst2FGShortPct)\n",
    "yst2FG20 = tier2[\"#FgMade20_29\"]\n",
    "yst2FG20 = pd.DataFrame(yst2FG20)\n",
    "yst2FG20Att = tier2[\"#FgAtt20_29\"]\n",
    "yst2FG20Att = pd.DataFrame(yst2FG20Att)\n",
    "yst2FG20Pct = tier2[\"#Fg20_29Pct\"]\n",
    "yst2FG20Pct = pd.DataFrame(yst2FG20Pct)\n",
    "yst2FG30 = tier2[\"#FgMade30_39\"]\n",
    "yst2FG30 = pd.DataFrame(yst2FG30)\n",
    "yst2FG30Att = tier2[\"#FgAtt30_39\"]\n",
    "yst2FG30Att = pd.DataFrame(yst2FG30Att)\n",
    "yst2FG30Pct = tier2[\"#Fg30_39Pct\"]\n",
    "yst2FG30Pct = pd.DataFrame(yst2FG30Pct)\n",
    "yst2FG40 = tier2[\"#FgMade40_49\"]\n",
    "yst2FG40 = pd.DataFrame(yst2FG40)\n",
    "yst2FG40Att = tier2[\"#FgAtt40_49\"]\n",
    "yst2FG40Att = pd.DataFrame(yst2FG40Att)\n",
    "yst2FG40Pct = tier2[\"#Fg40_49Pct\"]\n",
    "yst2FG40Pct = pd.DataFrame(yst2FG40Pct)\n",
    "yst2FG50Pl = tier2[\"#FgMade50Plus\"]\n",
    "yst2FG50Pl = pd.DataFrame(yst2FG50Pl)\n",
    "yst2FG50PlAtt = tier2[\"#FgAtt50Plus\"]\n",
    "yst2FG50PlAtt = pd.DataFrame(yst2FG50PlAtt)\n",
    "yst2FG50PlPct = tier2[\"#Fg50PlusPct\"]\n",
    "yst2FG50PlPct = pd.DataFrame(yst2FG50PlPct)\n",
    "yst2FGLng = tier2[\"#FgLng\"]\n",
    "yst2FGLng = pd.DataFrame(yst2FGLng)\n",
    "yst2XPBlk = tier2[\"#XpBlk\"]\n",
    "yst2XPBlk = pd.DataFrame(yst2XPBlk)\n",
    "yst2XPMade = tier2[\"#XpMade\"]\n",
    "yst2XPMade = pd.DataFrame(yst2XPMade)\n",
    "yst2XPAtt = tier2[\"#XpAtt\"]\n",
    "yst2XPAtt = pd.DataFrame(yst2XPAtt)\n",
    "yst2XPPct = tier2[\"#XpPct\"]\n",
    "yst2XPPct = pd.DataFrame(yst2XPPct)\n",
    "yst2FGXP = tier2[\"#FgAndXpPts\"]\n",
    "yst2FGXP = pd.DataFrame(yst2FGXP)\n",
    "yst2KOPct = tier2[\"#KoPct\"]\n",
    "yst2KOPct = pd.DataFrame(yst2KOPct)\n",
    "yKO = tier2[\"#Kickoffs\"]\n",
    "yKO = pd.DataFrame(yKO)\n",
    "yst2KOYds = tier2[\"#KoYds\"]\n",
    "yst2KOYds = pd.DataFrame(yst2KOYds)\n",
    "yst2KOOOB = tier2[\"#KoOOB\"]\n",
    "yst2KOOOB = pd.DataFrame(yst2KOOOB)\n",
    "yst2KOAvg = tier2[\"#KoAvg\"]\n",
    "yst2KOAvg = pd.DataFrame(yst2KOAvg)\n",
    "yst2KOTB = tier2[\"#KoTB\"]\n",
    "yst2KOTB = pd.DataFrame(yst2KOTB)\n",
    "yst2KOR = tier2[\"#KoRet\"]\n",
    "yst2KOR = pd.DataFrame(yst2KOR)\n",
    "yst2KORYds = tier2[\"#KoRetYds\"]\n",
    "yst2KORYds = pd.DataFrame(yst2KORYds)\n",
    "yst2KORAvgYds = tier2[\"#KoRetAvgYds\"]\n",
    "yst2KORAvgYds = pd.DataFrame(yst2KORAvgYds)\n",
    "yst2KOTD = tier2[\"#KoTD\"]\n",
    "yst2KOTD = pd.DataFrame(yst2KOTD)\n",
    "yst2KOOnSide = tier2[\"#KoOS\"]\n",
    "yst2KOOnSide = pd.DataFrame(yst2KOOnSide)\n",
    "yst2KOOnSideRec = tier2[\"#KoOSR\"]\n",
    "yst2KOOnSideRec = pd.DataFrame(yst2KOOnSideRec)\n",
    "yst2P = tier2[\"#Punts\"]\n",
    "yst2P = pd.DataFrame(yst2P)\n",
    "yst2PYds = tier2[\"#PuntYds\"]\n",
    "yst2PYds = pd.DataFrame(yst2PYds)\n",
    "yst2PNetYds = tier2[\"#PuntNetYds\"]\n",
    "yst2PNetYds = pd.DataFrame(yst2PNetYds)\n",
    "yst2PLng = tier2[\"#PuntLng\"]\n",
    "yst2PLng = pd.DataFrame(yst2PLng)\n",
    "yst2PAvg = tier2[\"#PuntAvg\"]\n",
    "yst2PAvg = pd.DataFrame(yst2PAvg)\n",
    "yst2PNetAvg = tier2[\"#PuntNetAvg\"]\n",
    "yst2PNetAvg = pd.DataFrame(yst2PNetAvg)\n",
    "yst2PBlk = tier2[\"#PuntBlk\"]\n",
    "yst2PBlk = pd.DataFrame(yst2PBlk)\n",
    "yst2POOB = tier2[\"#PuntOOB\"]\n",
    "yst2POOB = pd.DataFrame(yst2POOB)\n",
    "yst2PDown = tier2[\"#PuntDown\"]\n",
    "yst2PDown = pd.DataFrame(yst2PDown)\n",
    "yst2P20 = tier2[\"#PuntIn20\"]\n",
    "yst2P20 = pd.DataFrame(yst2P20)\n",
    "yst2P20Pct = tier2[\"#PuntIn20Pct\"]\n",
    "yst2P20Pct = pd.DataFrame(yst2P20Pct)\n",
    "yst2PTB = tier2[\"#PuntTB\"]\n",
    "yst2PTB = pd.DataFrame(yst2PTB)\n",
    "yst2PTBPct = tier2[\"#PuntTBPct\"]\n",
    "yst2PTBPct = pd.DataFrame(yst2PTBPct)\n",
    "yst2PFC = tier2[\"#PuntFC\"]\n",
    "yst2PFC = pd.DataFrame(yst2PFC)\n",
    "yst2PR = tier2[\"#PuntRet\"]\n",
    "yst2PR = pd.DataFrame(yst2PR)\n",
    "yst2PRYds = tier2[\"#PuntRetYds\"]\n",
    "yst2PRYds = pd.DataFrame(yst2PRYds)\n",
    "yst2PRAvg = tier2[\"#PuntRetAvg\"]\n",
    "yst2PRAvg = pd.DataFrame(yst2PRAvg)"
   ]
  },
  {
   "cell_type": "code",
   "execution_count": 93,
   "metadata": {},
   "outputs": [],
   "source": [
    "#Special Teams Plot Variable List \n",
    "st_list = [ystKB[\"#KB\"],ystKRRet[\"#KrRet\"],ystKRYds[\"#KrYds\"],ystKRAvg[\"#KrAvg\"], ystKRLng[\"#KrLng\"],ystKRTD[\"#KrTD\"],\n",
    "ystKR20P[\"#Kr20Plus\"],ystKR40P[\"#Kr40Plus\"],ystKRFC[\"#KrFC\"],ystKRFum[\"#KrFum\"],ystPRRet[\"#PrRet\"],\n",
    "ystPR40P[\"#Pr40Plus\"],ystPRFC[\"#PrFC\"],yPRFum[\"#PrFum\"],ystFGBlk[\"#FgBlk\"],ystFG[\"#FgMade\"],\n",
    "ystFGAtt[\"#FgAtt\"],ystFGPct[\"#FgPct\"],ystFGShort[\"#FgMade1_19\"],ystFGShortAtt[\"#FgAtt1_19\"],ystFGShortPct[\"#Fg1_19Pct\"],\n",
    "ystFG20[\"#FgMade20_29\"],ystFG20Att[\"#FgAtt20_29\"],ystFG20Pct[\"#Fg20_29Pct\"],ystFG30[\"#FgMade30_39\"],ystFG30Att[\"#FgAtt30_39\"],\n",
    "ystFG30Pct[\"#Fg30_39Pct\"],ystFG40[\"#FgMade40_49\"],ystFG40Att[\"#FgAtt40_49\"],ystFG40Pct[\"#Fg40_49Pct\"],ystFG50Pl[\"#FgMade50Plus\"],\n",
    "ystFG50PlAtt[\"#FgAtt50Plus\"],ystFG50PlPct[\"#Fg50PlusPct\"],ystFGLng[\"#FgLng\"],ystXPBlk[\"#XpBlk\"],ystXPMade[\"#XpMade\"],\n",
    "ystXPAtt[\"#XpAtt\"],ystXPPct[\"#XpPct\"],ystFGXP[\"#FgAndXpPts\"],ystKOPct[\"#KoPct\"],yKO[\"#Kickoffs\"],\n",
    "ystKOYds[\"#KoYds\"],ystKOOOB[\"#KoOOB\"],ystKOAvg[\"#KoAvg\"],ystKOTB[\"#KoTB\"],ystKOR[\"#KoRet\"],\n",
    "ystKORYds[\"#KoRetYds\"],ystKORAvgYds[\"#KoRetAvgYds\"],ystKOTD[\"#KoTD\"],ystKOOnSide[\"#KoOS\"],ystKOOnSideRec[\"#KoOSR\"],\n",
    "ystP[\"#Punts\"],ystPYds[\"#PuntYds\"],ystPNetYds[\"#PuntNetYds\"],ystPLng[\"#PuntLng\"],ystPAvg[\"#PuntAvg\"],\n",
    "ystPNetAvg[\"#PuntNetAvg\"],ystPBlk[\"#PuntBlk\"],ystPOOB[\"#PuntOOB\"],ystPDown[\"#PuntDown\"],ystP20[\"#PuntIn20\"],\n",
    "ystP20Pct[\"#PuntIn20Pct\"],ystPTB[\"#PuntTB\"],ystPTBPct[\"#PuntTBPct\"],ystPFC[\"#PuntFC\"],ystPR[\"#PuntRet\"],\n",
    "ystPRLng[\"#PrLng\"],ystPRTD[\"#PrTD\"],ystPR20P[\"#Pr20Plus\"],ystPRYds[\"#PuntRetYds\"],ystPRAvg[\"#PuntRetAvg\"]]\n",
    "\n",
    "#_______End Special Teams List____________"
   ]
  },
  {
   "cell_type": "code",
   "execution_count": 94,
   "metadata": {
    "collapsed": true
   },
   "outputs": [],
   "source": [
    "#Special Teams 2 Plot Variable List\n",
    "st_list2 = [yst2KB[\"#KB\"],yst2KRRet[\"#KrRet\"],yst2KRYds[\"#KrYds\"],yst2KRAvg[\"#KrAvg\"], yst2KRLng[\"#KrLng\"],yst2KRTD[\"#KrTD\"],\n",
    "yst2KR20P[\"#Kr20Plus\"],yst2KR40P[\"#Kr40Plus\"],yst2KRFC[\"#KrFC\"],yst2KRFum[\"#KrFum\"],yst2PRRet[\"#PrRet\"],\n",
    "yst2PR40P[\"#Pr40Plus\"],yst2PRFC[\"#PrFC\"],yPRFum[\"#PrFum\"],yst2FGBlk[\"#FgBlk\"],yst2FG[\"#FgMade\"],\n",
    "yst2FGAtt[\"#FgAtt\"],yst2FGPct[\"#FgPct\"],yst2FGShort[\"#FgMade1_19\"],yst2FGShortAtt[\"#FgAtt1_19\"],yst2FGShortPct[\"#Fg1_19Pct\"],\n",
    "yst2FG20[\"#FgMade20_29\"],yst2FG20Att[\"#FgAtt20_29\"],yst2FG20Pct[\"#Fg20_29Pct\"],yst2FG30[\"#FgMade30_39\"],yst2FG30Att[\"#FgAtt30_39\"],\n",
    "yst2FG30Pct[\"#Fg30_39Pct\"],yst2FG40[\"#FgMade40_49\"],yst2FG40Att[\"#FgAtt40_49\"],yst2FG40Pct[\"#Fg40_49Pct\"],yst2FG50Pl[\"#FgMade50Plus\"],\n",
    "yst2FG50PlAtt[\"#FgAtt50Plus\"],yst2FG50PlPct[\"#Fg50PlusPct\"],yst2FGLng[\"#FgLng\"],yst2XPBlk[\"#XpBlk\"],yst2XPMade[\"#XpMade\"],\n",
    "yst2XPAtt[\"#XpAtt\"],yst2XPPct[\"#XpPct\"],yst2FGXP[\"#FgAndXpPts\"],yst2KOPct[\"#KoPct\"],yKO[\"#Kickoffs\"],\n",
    "yst2KOYds[\"#KoYds\"],yst2KOOOB[\"#KoOOB\"],yst2KOAvg[\"#KoAvg\"],yst2KOTB[\"#KoTB\"],yst2KOR[\"#KoRet\"],\n",
    "yst2KORYds[\"#KoRetYds\"],yst2KORAvgYds[\"#KoRetAvgYds\"],yst2KOTD[\"#KoTD\"],yst2KOOnSide[\"#KoOS\"],yst2KOOnSideRec[\"#KoOSR\"],\n",
    "yst2P[\"#Punts\"],yst2PYds[\"#PuntYds\"],yst2PNetYds[\"#PuntNetYds\"],yst2PLng[\"#PuntLng\"],yst2PAvg[\"#PuntAvg\"],\n",
    "yst2PNetAvg[\"#PuntNetAvg\"],yst2PBlk[\"#PuntBlk\"],yst2POOB[\"#PuntOOB\"],yst2PDown[\"#PuntDown\"],yst2P20[\"#PuntIn20\"],\n",
    "yst2P20Pct[\"#PuntIn20Pct\"],yst2PTB[\"#PuntTB\"],yst2PTBPct[\"#PuntTBPct\"],yst2PFC[\"#PuntFC\"],yst2PR[\"#PuntRet\"],\n",
    "yst2PRLng[\"#PrLng\"],yst2PRTD[\"#PrTD\"],yst2PR20P[\"#Pr20Plus\"],yst2PRYds[\"#PuntRetYds\"],yst2PRAvg[\"#PuntRetAvg\"]]\n",
    "\n",
    "#_______End Special Teams List____________"
   ]
  },
  {
   "cell_type": "code",
   "execution_count": 141,
   "metadata": {},
   "outputs": [],
   "source": [
    "# #ST Lists\n",
    "ST_X_Array = [x1[\"#Wins\"], x1[\"#Wins\"], x1[\"#Wins\"], x1[\"#Wins\"], x1[\"#Wins\"], \n",
    "                     x1[\"#Wins\"], x1[\"#Wins\"], x1[\"#Wins\"], x1[\"#Wins\"], x1[\"#Wins\"], \n",
    "                     x1[\"#Wins\"], x1[\"#Wins\"], x1[\"#Wins\"], x1[\"#Wins\"], x1[\"#Wins\"], \n",
    "                     x1[\"#Wins\"], x1[\"#Wins\"], x1[\"#Wins\"], x1[\"#Wins\"], x1[\"#Wins\"], \n",
    "                     x1[\"#Wins\"], x1[\"#Wins\"], x1[\"#Wins\"], x1[\"#Wins\"], x1[\"#Wins\"], \n",
    "                     x1[\"#Wins\"], x1[\"#Wins\"], x1[\"#Wins\"], x1[\"#Wins\"], x1[\"#Wins\"], \n",
    "                     x1[\"#Wins\"], x1[\"#Wins\"], x1[\"#Wins\"], x1[\"#Wins\"], x1[\"#Wins\"], \n",
    "                     x1[\"#Wins\"], x1[\"#Wins\"], x1[\"#Wins\"], x1[\"#Wins\"], x1[\"#Wins\"], \n",
    "                     x1[\"#Wins\"], x1[\"#Wins\"], x1[\"#Wins\"], x1[\"#Wins\"], x1[\"#Wins\"], \n",
    "                     x1[\"#Wins\"], x1[\"#Wins\"], x1[\"#Wins\"], x1[\"#Wins\"], x1[\"#Wins\"], \n",
    "                     x1[\"#Wins\"], x1[\"#Wins\"], x1[\"#Wins\"], x1[\"#Wins\"], x1[\"#Wins\"], \n",
    "                     x1[\"#Wins\"], x1[\"#Wins\"], x1[\"#Wins\"], x1[\"#Wins\"], x1[\"#Wins\"], \n",
    "                     x1[\"#Wins\"], x1[\"#Wins\"], x1[\"#Wins\"], x1[\"#Wins\"], x1[\"#Wins\"], \n",
    "                     x1[\"#Wins\"], x1[\"#Wins\"], x1[\"#Wins\"], x1[\"#Wins\"], x1[\"#Wins\"], \n",
    "                     x1[\"#Wins\"]]\n",
    "\n",
    "FG_list = [ystFGAtt[\"#FgAtt\"],ystFGPct[\"#FgPct\"],ystFGShort[\"#FgMade1_19\"],ystFGShortAtt[\"#FgAtt1_19\"],ystFGShortPct[\"#Fg1_19Pct\"],\n",
    "       ystFG20[\"#FgMade20_29\"],ystFG20Att[\"#FgAtt20_29\"],ystFG20Pct[\"#Fg20_29Pct\"],ystFG30[\"#FgMade30_39\"],ystFG30Att[\"#FgAtt30_39\"],\n",
    "       ystFG30Pct[\"#Fg30_39Pct\"],ystFG40[\"#FgMade40_49\"],ystFG40Att[\"#FgAtt40_49\"],ystFG40Pct[\"#Fg40_49Pct\"],ystFG50Pl[\"#FgMade50Plus\"],   \n",
    "       ystFG50PlAtt[\"#FgAtt50Plus\"],ystFG50PlPct[\"#Fg50PlusPct\"],ystFGLng[\"#FgLng\"]]\n",
    "\n",
    "FG_Array = ([x1[\"#Wins\"], x1[\"#Wins\"], x1[\"#Wins\"], x1[\"#Wins\"], x1[\"#Wins\"], \n",
    "                     x1[\"#Wins\"], x1[\"#Wins\"], x1[\"#Wins\"], x1[\"#Wins\"], x1[\"#Wins\"],\n",
    "                     x1[\"#Wins\"], x1[\"#Wins\"], x1[\"#Wins\"], x1[\"#Wins\"], x1[\"#Wins\"],\n",
    "                     x1[\"#Wins\"], x1[\"#Wins\"], x1[\"#Wins\"]\n",
    "                     ])\n",
    "\n",
    "KO_list = [[ystKOPct[\"#KoPct\"], yKO[\"#Kickoffs\"], ystKOYds[\"#KoYds\"], ystKOOOB[\"#KoOOB\"], ystKOAvg[\"#KoAvg\"],\n",
    "            ystKOTB[\"#KoTB\"], ystKOR[\"#KoRet\"], ystKORYds[\"#KoRetYds\"], ystKORAvgYds[\"#KoRetAvgYds\"], ystKOTD[\"#KoTD\"],\n",
    "            ystKOOnSide[\"#KoOS\"], ystKOOnSideRec[\"#KoOSR\"], ystKOPct[\"#KoPct\"], yKO[\"#Kickoffs\"], ystKOYds[\"#KoYds\"],\n",
    "            ystKOOOB[\"#KoOOB\"], ystKOAvg[\"#KoAvg\"], ystKOTB[\"#KoTB\"], ystKOTD[\"#KoTD\"], ystKOOnSide[\"#KoOS\"], \n",
    "            ystKOOnSideRec[\"#KoOSR\"]]]\n",
    "\n",
    "KO_Array = [[x1[\"#Wins\"], x1[\"#Wins\"], x1[\"#Wins\"], x1[\"#Wins\"], x1[\"#Wins\"],\n",
    "                     x1[\"#Wins\"], x1[\"#Wins\"], x1[\"#Wins\"], x1[\"#Wins\"], x1[\"#Wins\"], \n",
    "                     x1[\"#Wins\"], x1[\"#Wins\"], x1[\"#Wins\"], x1[\"#Wins\"], x1[\"#Wins\"], \n",
    "                     x1[\"#Wins\"], x1[\"#Wins\"], x1[\"#Wins\"], x1[\"#Wins\"], x1[\"#Wins\"], \n",
    "                     x1[\"#Wins\"]\n",
    "                     ]]\n",
    "           \n",
    "KOR_list = [[ystKB[\"#KB\"],ystKRRet[\"#KrRet\"],ystKRYds[\"#KrYds\"],ystKRAvg[\"#KrAvg\"], ystKRLng[\"#KrLng\"],\n",
    "             ystKRTD[\"#KrTD\"], ystKR20P[\"#Kr20Plus\"],ystKR40P[\"#Kr40Plus\"],ystKRFC[\"#KrFC\"],ystKRFum[\"#KrFum\"], \n",
    "             ystKOR[\"#KoRet\"], ystKORYds[\"#KoRetYds\"],ystKORAvgYds[\"#KoRetAvgYds\"], ystKB[\"#KB\"],ystKRRet[\"#KrRet\"],\n",
    "             ystKRYds[\"#KrYds\"],ystKRAvg[\"#KrAvg\"], ystKRLng[\"#KrLng\"],ystKRTD[\"#KrTD\"],ystKR20P[\"#Kr20Plus\"],\n",
    "             ystKR40P[\"#Kr40Plus\"], ystKRFC[\"#KrFC\"], ystKRFum[\"#KrFum\"], ystKOR[\"#KoRet\"], ystKORYds[\"#KoRetYds\"],\n",
    "             ystKORAvgYds[\"#KoRetAvgYds\"],ystKOTD[\"#KoTD\"], ystKOOnSide[\"#KoOS\"], ystKOOnSideRec[\"#KoOSR\"]]]\n",
    "KOR_Array = [[x1[\"#Wins\"], x1[\"#Wins\"], x1[\"#Wins\"], x1[\"#Wins\"], x1[\"#Wins\"],\n",
    "                     x1[\"#Wins\"], x1[\"#Wins\"], x1[\"#Wins\"], x1[\"#Wins\"], x1[\"#Wins\"],\n",
    "                     x1[\"#Wins\"], x1[\"#Wins\"], x1[\"#Wins\"], x1[\"#Wins\"], x1[\"#Wins\"],\n",
    "                     x1[\"#Wins\"], x1[\"#Wins\"], x1[\"#Wins\"], x1[\"#Wins\"], x1[\"#Wins\"], \n",
    "                     x1[\"#Wins\"], x1[\"#Wins\"], x1[\"#Wins\"], x1[\"#Wins\"], x1[\"#Wins\"],\n",
    "                     x1[\"#Wins\"], x1[\"#Wins\"], x1[\"#Wins\"], x1[\"#Wins\"]\n",
    "                     ]]\n",
    "\n",
    "Punt_list = [[ystP[\"#Punts\"], ystPYds[\"#PuntYds\"], ystPNetYds[\"#PuntNetYds\"], ystPLng[\"#PuntLng\"], ystPAvg[\"#PuntAvg\"], \n",
    "              ystPNetAvg[\"#PuntNetAvg\"], ystPBlk[\"#PuntBlk\"], ystPOOB[\"#PuntOOB\"], ystPDown[\"#PuntDown\"], ystP20[\"#PuntIn20\"],\n",
    "              ystP20Pct[\"#PuntIn20Pct\"], ystPTB[\"#PuntTB\"], ystPTBPct[\"#PuntTBPct\"], ystPFC[\"#PuntFC\"], ystP[\"#Punts\"],\n",
    "              ystPYds[\"#PuntYds\"], ystPNetYds[\"#PuntNetYds\"], ystPLng[\"#PuntLng\"], ystPAvg[\"#PuntAvg\"], ystPNetAvg[\"#PuntNetAvg\"],\n",
    "              ystPBlk[\"#PuntBlk\"], ystPOOB[\"#PuntOOB\"], ystPDown[\"#PuntDown\"], ystP20[\"#PuntIn20\"], ystP20Pct[\"#PuntIn20Pct\"],\n",
    "              ystPTB[\"#PuntTB\"],ystPTBPct[\"#PuntTBPct\"],ystPFC[\"#PuntFC\"]]]\n",
    "Punt_Array = [[x1[\"#Wins\"], x1[\"#Wins\"], x1[\"#Wins\"], x1[\"#Wins\"], x1[\"#Wins\"],\n",
    "                     x1[\"#Wins\"], x1[\"#Wins\"], x1[\"#Wins\"], x1[\"#Wins\"], x1[\"#Wins\"], \n",
    "                     x1[\"#Wins\"], x1[\"#Wins\"], x1[\"#Wins\"], x1[\"#Wins\"], x1[\"#Wins\"], \n",
    "                     x1[\"#Wins\"], x1[\"#Wins\"], x1[\"#Wins\"], x1[\"#Wins\"], x1[\"#Wins\"], \n",
    "                     x1[\"#Wins\"], x1[\"#Wins\"], x1[\"#Wins\"], x1[\"#Wins\"], x1[\"#Wins\"], \n",
    "                     x1[\"#Wins\"], x1[\"#Wins\"], x1[\"#Wins\"]\n",
    "                     ]]\n",
    "\n",
    "PR_list = [ystPRLng[\"#PrLng\"],ystPRTD[\"#PrTD\"],ystPR20P[\"#Pr20Plus\"],ystPRYds[\"#PuntRetYds\"],ystPRAvg[\"#PuntRetAvg\"],\n",
    "           ystPR40P[\"#Pr40Plus\"],ystPRFC[\"#PrFC\"],yPRFum[\"#PrFum\"],ystPRRet[\"#PrRet\"], ystPR[\"#PuntRet\"]]\n",
    "\n",
    "PR_Array = [x1[\"#Wins\"], x1[\"#Wins\"], x1[\"#Wins\"], x1[\"#Wins\"], x1[\"#Wins\"],\n",
    "                     x1[\"#Wins\"], x1[\"#Wins\"], x1[\"#Wins\"], x1[\"#Wins\"], x1[\"#Wins\"]]\n",
    "\n",
    "XP_list = [ystXPBlk[\"#XpBlk\"],ystXPMade[\"#XpMade\"],ystXPAtt[\"#XpAtt\"],ystXPPct[\"#XpPct\"]]\n",
    "\n",
    "\n",
    "XP_Array =[x1[\"#Wins\"], x1[\"#Wins\"], x1[\"#Wins\"], x1[\"#Wins\"]]\n",
    "           \n",
    "FGXP_list = [ystFGAtt[\"#FgAtt\"],ystFGPct[\"#FgPct\"],ystFGShort[\"#FgMade1_19\"],ystFGShortAtt[\"#FgAtt1_19\"],ystFGShortPct[\"#Fg1_19Pct\"],\n",
    "       ystFG20[\"#FgMade20_29\"],ystFG20Att[\"#FgAtt20_29\"],ystFG20Pct[\"#Fg20_29Pct\"],ystFG30[\"#FgMade30_39\"],ystFG30Att[\"#FgAtt30_39\"],\n",
    "       ystFG30Pct[\"#Fg30_39Pct\"],ystFG40[\"#FgMade40_49\"],ystFG40Att[\"#FgAtt40_49\"],ystFG40Pct[\"#Fg40_49Pct\"],ystFG50Pl[\"#FgMade50Plus\"],   \n",
    "       ystFG50PlAtt[\"#FgAtt50Plus\"],ystFG50PlPct[\"#Fg50PlusPct\"],ystFGLng[\"#FgLng\"], ystXPBlk[\"#XpBlk\"],ystXPMade[\"#XpMade\"],\n",
    "           ystXPAtt[\"#XpAtt\"],ystXPPct[\"#XpPct\"], ystFGXP[\"#FgAndXpPts\"]]\n",
    "FGXP_Array = [x1[\"#Wins\"], x1[\"#Wins\"], x1[\"#Wins\"], x1[\"#Wins\"], x1[\"#Wins\"], \n",
    "               x1[\"#Wins\"], x1[\"#Wins\"], x1[\"#Wins\"], x1[\"#Wins\"], x1[\"#Wins\"],\n",
    "               x1[\"#Wins\"], x1[\"#Wins\"], x1[\"#Wins\"], x1[\"#Wins\"], x1[\"#Wins\"],\n",
    "               x1[\"#Wins\"], x1[\"#Wins\"], x1[\"#Wins\"], x1[\"#Wins\"], x1[\"#Wins\"],\n",
    "               x1[\"#Wins\"], x1[\"#Wins\"], x1[\"#Wins\"]]"
   ]
  },
  {
   "cell_type": "code",
   "execution_count": 395,
   "metadata": {},
   "outputs": [
    {
     "data": {
      "image/png": "[encoded data removed]",
      "text/plain": [
       "<matplotlib.figure.Figure at 0x1e86fb355f8>"
      ]
     },
     "metadata": {},
     "output_type": "display_data"
    },
    {
     "data": {
      "text/plain": [
       "<matplotlib.figure.Figure at 0x1e86b869f98>"
      ]
     },
     "metadata": {},
     "output_type": "display_data"
    },
    {
     "name": "stdout",
     "output_type": "stream",
     "text": [
      "#Team Abbr.\n",
      "NE     301.2\n",
      "PIT    246.6\n",
      "SEA    299.9\n",
      "GB     187.4\n",
      "KC     253.3\n",
      "CAR    244.1\n",
      "DEN    193.5\n",
      "ARI    186.7\n",
      "Name: #PuntIn20Pct, dtype: float64 #Team Abbr.\n",
      "NE     25\n",
      "PIT    10\n",
      "SEA    19\n",
      "GB     17\n",
      "KC     34\n",
      "CAR    12\n",
      "DEN    17\n",
      "ARI     7\n",
      "Name: #Pr20Plus, dtype: int64 #Team Abbr.\n",
      "CLE    123.8\n",
      "STL     84.5\n",
      "SD      66.5\n",
      "CHI    132.5\n",
      "SF     129.6\n",
      "TB     142.4\n",
      "JAX    186.8\n",
      "NYJ    136.8\n",
      "Name: #PuntIn20Pct, dtype: float64 #Team Abbr.\n",
      "CLE     9\n",
      "STL    13\n",
      "SD      4\n",
      "CHI    14\n",
      "SF     13\n",
      "TB     14\n",
      "JAX    12\n",
      "NYJ     5\n",
      "Name: #Pr20Plus, dtype: int64\n"
     ]
    }
   ],
   "source": [
    "yplot_ST = np.array([st_list[61]])\n",
    "xplot_ST = np.array([x1[\"#Wins\"]])\n",
    "plt.scatter(x=xplot_ST, \n",
    "            y=yplot_ST,\n",
    "            s=15,\n",
    "            facecolors=colors, \n",
    "            alpha=0.8,\n",
    "            linewidth=1)\n",
    "yplot_ST2 = np.array([st_list[68]])\n",
    "xplot_ST2 = np.array([x1[\"#Wins\"]])\n",
    "plt.scatter(x=xplot_ST2, \n",
    "            y=yplot_ST2,\n",
    "            s=15,\n",
    "            facecolors=\"green\", \n",
    "            alpha=0.8,\n",
    "            linewidth=1)\n",
    "yplot_ST3 = np.array([st_list2[61]])\n",
    "xplot_ST3 = np.array([x2[\"#Wins\"]])\n",
    "plt.scatter(x=xplot_ST3, \n",
    "            y=yplot_ST3,\n",
    "            s=15,\n",
    "            facecolors=colors2, \n",
    "            alpha=0.8,\n",
    "            linewidth=1)\n",
    "yplot_ST4 = np.array([st_list2[68]])\n",
    "xplot_ST4 = np.array([x2[\"#Wins\"]])\n",
    "plt.scatter(x=xplot_ST4, \n",
    "            y=yplot_ST4,\n",
    "            s=15,\n",
    "            facecolors=\"orange\", \n",
    "            alpha=0.8,\n",
    "            linewidth=1)\n",
    "plt.grid(True)\n",
    "plt.legend(handles=handles)\n",
    "plt.title(\"Overall Wins vs Special Teams Stats\", fontsize=20)\n",
    "plt.ylabel(\"Wins\", fontsize=20)\n",
    "plt.ylim(0,320)\n",
    "plt.xlabel(\"Total Special Teams Stats\", fontsize=20)\n",
    "plt.xlim(0,70)\n",
    "plt.figure(figsize=(10,10), dpi=80)\n",
    "plt.show()\n",
    "print(st_list[61], st_list[68], st_list2[61], st_list2[68])"
   ]
  },
  {
   "cell_type": "markdown",
   "metadata": {},
   "source": [
    "### FG Plots"
   ]
  },
  {
   "cell_type": "code",
   "execution_count": 143,
   "metadata": {},
   "outputs": [
    {
     "data": {
      "image/png": "[encoded data removed]",
      "text/plain": [
       "<matplotlib.figure.Figure at 0x1e86b7a59b0>"
      ]
     },
     "metadata": {},
     "output_type": "display_data"
    },
    {
     "data": {
      "text/plain": [
       "<matplotlib.figure.Figure at 0x1e86b8342b0>"
      ]
     },
     "metadata": {},
     "output_type": "display_data"
    }
   ],
   "source": [
    "yplot_ST = np.array([FG_list])\n",
    "\n",
    "xplot_ST = np.array([FG_Array\n",
    "                     ])\n",
    "plt.scatter(x=xplot_ST, \n",
    "            y=yplot_ST,\n",
    "            s=15,\n",
    "            facecolors=colors, \n",
    "            alpha=0.8,\n",
    "            linewidth=1)\n",
    "\n",
    "plt.grid(True)\n",
    "plt.legend(handles= handles)\n",
    "plt.title(\"Overall Wins vs Field Goal Stats\", fontsize=20)\n",
    "plt.ylabel(\"Wins\", fontsize=20)\n",
    "plt.ylim(0,3700)\n",
    "plt.xlabel(\"Field Goal Stats\", fontsize=20)\n",
    "plt.xlim(30,70)\n",
    "plt.figure(figsize=(10,10), dpi=80)\n",
    "plt.show()"
   ]
  },
  {
   "cell_type": "markdown",
   "metadata": {},
   "source": [
    "### XP Plots"
   ]
  },
  {
   "cell_type": "code",
   "execution_count": 144,
   "metadata": {},
   "outputs": [
    {
     "data": {
      "image/png": "[encoded data removed]",
      "text/plain": [
       "<matplotlib.figure.Figure at 0x1e86b834e48>"
      ]
     },
     "metadata": {},
     "output_type": "display_data"
    },
    {
     "data": {
      "text/plain": [
       "<matplotlib.figure.Figure at 0x1e86b896358>"
      ]
     },
     "metadata": {},
     "output_type": "display_data"
    }
   ],
   "source": [
    "yplot_ST = np.array([XP_list])\n",
    "\n",
    "xplot_ST = np.array([XP_Array\n",
    "                     ])\n",
    "plt.scatter(x=xplot_ST, \n",
    "            y=yplot_ST,\n",
    "            s=15,\n",
    "            facecolors=colors, \n",
    "            alpha=0.8,\n",
    "            linewidth=1)\n",
    "\n",
    "plt.grid(True)\n",
    "plt.legend(handles= handles)\n",
    "plt.title(\"Overall Wins vs Extra Point Stats\", fontsize=20)\n",
    "plt.ylabel(\"Wins\", fontsize=20)\n",
    "plt.ylim(0,3700)\n",
    "plt.xlabel(\"Extra Point Stats\", fontsize=20)\n",
    "plt.xlim(30,70)\n",
    "plt.figure(figsize=(10,10), dpi=80)\n",
    "plt.show()"
   ]
  }
 ],
 "metadata": {
  "kernelspec": {
   "display_name": "Python 3",
   "language": "python",
   "name": "python3"
  },
  "language_info": {
   "codemirror_mode": {
    "name": "ipython",
    "version": 3
   },
   "file_extension": ".py",
   "mimetype": "text/x-python",
   "name": "python",
   "nbconvert_exporter": "python",
   "pygments_lexer": "ipython3",
   "version": "3.6.3"
  }
 },
 "nbformat": 4,
 "nbformat_minor": 2
}
